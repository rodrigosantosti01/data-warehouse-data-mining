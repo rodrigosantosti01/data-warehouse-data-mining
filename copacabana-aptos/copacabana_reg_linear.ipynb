{
 "cells": [
  {
   "cell_type": "code",
   "execution_count": 13,
   "metadata": {},
   "outputs": [],
   "source": [
    "from random import seed\n",
    "# fixar a semente para que os resultados sejam repetíveis\n",
    "seed(42)"
   ]
  },
  {
   "cell_type": "code",
   "execution_count": null,
   "metadata": {},
   "outputs": [],
   "source": [
    "import matplotlib.pyplot as plt\n",
    "import seaborn as sns\n",
    "import numpy as np\n",
    "import pandas as pd\n",
    "from sklearn import datasets, linear_model\n",
    "from sklearn.metrics import mean_squared_error, r2_score\n",
    "from sklearn.model_selection import train_test_split \n",
    "from sklearn.preprocessing import StandardScaler, OneHotEncoder, OrdinalEncoder, MinMaxScaler\n",
    "from sklearn.compose import ColumnTransformer\n",
    "from sklearn.ensemble import GradientBoostingRegressor"
   ]
  },
  {
   "cell_type": "markdown",
   "metadata": {},
   "source": [
    "## 1. Faça a análise descritiva dos dados e o tratamento dos dados."
   ]
  },
  {
   "cell_type": "code",
   "execution_count": 4,
   "metadata": {},
   "outputs": [],
   "source": [
    "# Carregando o conjunto de dados copacabana delimitrando por `;`\n",
    "copacabana = pd.read_csv('copacabana.csv', delimiter=';')"
   ]
  },
  {
   "cell_type": "code",
   "execution_count": 5,
   "metadata": {},
   "outputs": [
    {
     "data": {
      "text/html": [
       "<div>\n",
       "<style scoped>\n",
       "    .dataframe tbody tr th:only-of-type {\n",
       "        vertical-align: middle;\n",
       "    }\n",
       "\n",
       "    .dataframe tbody tr th {\n",
       "        vertical-align: top;\n",
       "    }\n",
       "\n",
       "    .dataframe thead th {\n",
       "        text-align: right;\n",
       "    }\n",
       "</style>\n",
       "<table border=\"1\" class=\"dataframe\">\n",
       "  <thead>\n",
       "    <tr style=\"text-align: right;\">\n",
       "      <th></th>\n",
       "      <th>Posicao</th>\n",
       "      <th>Quartos</th>\n",
       "      <th>Vagas</th>\n",
       "      <th>DistIpanema</th>\n",
       "      <th>DistPraia</th>\n",
       "      <th>DistFavela</th>\n",
       "      <th>RendaMedia</th>\n",
       "      <th>RendaMovel</th>\n",
       "      <th>RendaMovelRua</th>\n",
       "      <th>Vu2009</th>\n",
       "      <th>Mes</th>\n",
       "      <th>Idade</th>\n",
       "      <th>Tipologia</th>\n",
       "      <th>AreaConstruida</th>\n",
       "      <th>VAL_UNIT</th>\n",
       "      <th>X</th>\n",
       "      <th>Y</th>\n",
       "    </tr>\n",
       "  </thead>\n",
       "  <tbody>\n",
       "    <tr>\n",
       "      <th>0</th>\n",
       "      <td>1</td>\n",
       "      <td>3.0</td>\n",
       "      <td>0.01</td>\n",
       "      <td>1144</td>\n",
       "      <td>311</td>\n",
       "      <td>146</td>\n",
       "      <td>969501</td>\n",
       "      <td>1028834</td>\n",
       "      <td>999168</td>\n",
       "      <td>1750</td>\n",
       "      <td>509</td>\n",
       "      <td>37.0</td>\n",
       "      <td>1</td>\n",
       "      <td>95</td>\n",
       "      <td>4379</td>\n",
       "      <td>685365.0700</td>\n",
       "      <td>7457802.680</td>\n",
       "    </tr>\n",
       "    <tr>\n",
       "      <th>1</th>\n",
       "      <td>0</td>\n",
       "      <td>2.0</td>\n",
       "      <td>0.01</td>\n",
       "      <td>2456</td>\n",
       "      <td>502</td>\n",
       "      <td>254</td>\n",
       "      <td>1472861</td>\n",
       "      <td>1137759</td>\n",
       "      <td>1305310</td>\n",
       "      <td>2300</td>\n",
       "      <td>484</td>\n",
       "      <td>30.0</td>\n",
       "      <td>1</td>\n",
       "      <td>71</td>\n",
       "      <td>6479</td>\n",
       "      <td>685941.5500</td>\n",
       "      <td>7459001.320</td>\n",
       "    </tr>\n",
       "    <tr>\n",
       "      <th>2</th>\n",
       "      <td>0</td>\n",
       "      <td>2.0</td>\n",
       "      <td>0.01</td>\n",
       "      <td>2448</td>\n",
       "      <td>772</td>\n",
       "      <td>229</td>\n",
       "      <td>1803724</td>\n",
       "      <td>1512475</td>\n",
       "      <td>1658100</td>\n",
       "      <td>2350</td>\n",
       "      <td>920</td>\n",
       "      <td>44.0</td>\n",
       "      <td>1</td>\n",
       "      <td>58</td>\n",
       "      <td>12414</td>\n",
       "      <td>685627.3900</td>\n",
       "      <td>7459080.520</td>\n",
       "    </tr>\n",
       "    <tr>\n",
       "      <th>3</th>\n",
       "      <td>0</td>\n",
       "      <td>2.0</td>\n",
       "      <td>0.01</td>\n",
       "      <td>1615</td>\n",
       "      <td>428</td>\n",
       "      <td>310</td>\n",
       "      <td>1124331</td>\n",
       "      <td>1370600</td>\n",
       "      <td>1247466</td>\n",
       "      <td>2200</td>\n",
       "      <td>930</td>\n",
       "      <td>43.0</td>\n",
       "      <td>1</td>\n",
       "      <td>88</td>\n",
       "      <td>11250</td>\n",
       "      <td>685438.2001</td>\n",
       "      <td>7458268.280</td>\n",
       "    </tr>\n",
       "    <tr>\n",
       "      <th>4</th>\n",
       "      <td>0</td>\n",
       "      <td>2.0</td>\n",
       "      <td>1.00</td>\n",
       "      <td>2358</td>\n",
       "      <td>586</td>\n",
       "      <td>287</td>\n",
       "      <td>1165764</td>\n",
       "      <td>1177933</td>\n",
       "      <td>1171849</td>\n",
       "      <td>2150</td>\n",
       "      <td>918</td>\n",
       "      <td>42.0</td>\n",
       "      <td>1</td>\n",
       "      <td>68</td>\n",
       "      <td>13382</td>\n",
       "      <td>685764.3840</td>\n",
       "      <td>7458954.513</td>\n",
       "    </tr>\n",
       "  </tbody>\n",
       "</table>\n",
       "</div>"
      ],
      "text/plain": [
       "   Posicao  Quartos  Vagas  DistIpanema  DistPraia  DistFavela  RendaMedia  \\\n",
       "0        1      3.0   0.01         1144        311         146      969501   \n",
       "1        0      2.0   0.01         2456        502         254     1472861   \n",
       "2        0      2.0   0.01         2448        772         229     1803724   \n",
       "3        0      2.0   0.01         1615        428         310     1124331   \n",
       "4        0      2.0   1.00         2358        586         287     1165764   \n",
       "\n",
       "   RendaMovel  RendaMovelRua  Vu2009  Mes  Idade  Tipologia  AreaConstruida  \\\n",
       "0     1028834         999168    1750  509   37.0          1              95   \n",
       "1     1137759        1305310    2300  484   30.0          1              71   \n",
       "2     1512475        1658100    2350  920   44.0          1              58   \n",
       "3     1370600        1247466    2200  930   43.0          1              88   \n",
       "4     1177933        1171849    2150  918   42.0          1              68   \n",
       "\n",
       "   VAL_UNIT            X            Y  \n",
       "0      4379  685365.0700  7457802.680  \n",
       "1      6479  685941.5500  7459001.320  \n",
       "2     12414  685627.3900  7459080.520  \n",
       "3     11250  685438.2001  7458268.280  \n",
       "4     13382  685764.3840  7458954.513  "
      ]
     },
     "execution_count": 5,
     "metadata": {},
     "output_type": "execute_result"
    }
   ],
   "source": [
    "# Retornando as colunas do dataframe com as primeiras linhas de dados\n",
    "copacabana.head()"
   ]
  },
  {
   "cell_type": "markdown",
   "metadata": {},
   "source": [
    "# verificando se existem dados incoerentes com os demais"
   ]
  },
  {
   "cell_type": "code",
   "execution_count": 6,
   "metadata": {},
   "outputs": [
    {
     "name": "stdout",
     "output_type": "stream",
     "text": [
      "Qtde de linhas com anotação nula: 0\n"
     ]
    }
   ],
   "source": [
    "clean_copacabana = copacabana.dropna()\n",
    "print('Qtde de linhas com anotação nula: %d' %(copacabana.shape[0]-clean_copacabana.shape[0]))"
   ]
  },
  {
   "cell_type": "code",
   "execution_count": 7,
   "metadata": {
    "scrolled": true
   },
   "outputs": [
    {
     "name": "stdout",
     "output_type": "stream",
     "text": [
      "<class 'pandas.core.frame.DataFrame'>\n",
      "RangeIndex: 1675 entries, 0 to 1674\n",
      "Data columns (total 17 columns):\n",
      "Posicao           1675 non-null int64\n",
      "Quartos           1675 non-null float64\n",
      "Vagas             1675 non-null float64\n",
      "DistIpanema       1675 non-null int64\n",
      "DistPraia         1675 non-null int64\n",
      "DistFavela        1675 non-null int64\n",
      "RendaMedia        1675 non-null int64\n",
      "RendaMovel        1675 non-null int64\n",
      "RendaMovelRua     1675 non-null int64\n",
      "Vu2009            1675 non-null int64\n",
      "Mes               1675 non-null int64\n",
      "Idade             1675 non-null float64\n",
      "Tipologia         1675 non-null int64\n",
      "AreaConstruida    1675 non-null int64\n",
      "VAL_UNIT          1675 non-null int64\n",
      "X                 1675 non-null float64\n",
      "Y                 1675 non-null float64\n",
      "dtypes: float64(5), int64(12)\n",
      "memory usage: 222.5 KB\n"
     ]
    }
   ],
   "source": [
    "# Tipo de dados\n",
    "copacabana.info()"
   ]
  },
  {
   "cell_type": "code",
   "execution_count": null,
   "metadata": {},
   "outputs": [],
   "source": [
    "# Transformação em categóricos e númericos\n",
    "copacabana[['DistIpanema','DistPraia','DistFavela','RendaMedia','RendaMovel','RendaMovelRua','Vu2009','AreaConstruida','VAL_UNIT']]=copacabana[['DistIpanema','DistPraia','DistFavela','RendaMedia','RendaMovel','RendaMovelRua','Vu2009','AreaConstruida','VAL_UNIT']].astype(np.float64) \n",
    "copacabana[['Quartos','Tipologia','Vagas','Mes','Posicao']]=copacabana[['Quartos','Tipologia','Vagas','Mes','Posicao']].astype('category') \n",
    "copacabana.info()"
   ]
  },
  {
   "cell_type": "code",
   "execution_count": 8,
   "metadata": {},
   "outputs": [
    {
     "data": {
      "text/html": [
       "<div>\n",
       "<style scoped>\n",
       "    .dataframe tbody tr th:only-of-type {\n",
       "        vertical-align: middle;\n",
       "    }\n",
       "\n",
       "    .dataframe tbody tr th {\n",
       "        vertical-align: top;\n",
       "    }\n",
       "\n",
       "    .dataframe thead th {\n",
       "        text-align: right;\n",
       "    }\n",
       "</style>\n",
       "<table border=\"1\" class=\"dataframe\">\n",
       "  <thead>\n",
       "    <tr style=\"text-align: right;\">\n",
       "      <th></th>\n",
       "      <th>Posicao</th>\n",
       "      <th>Quartos</th>\n",
       "      <th>Vagas</th>\n",
       "      <th>DistIpanema</th>\n",
       "      <th>DistPraia</th>\n",
       "      <th>DistFavela</th>\n",
       "      <th>RendaMedia</th>\n",
       "      <th>RendaMovel</th>\n",
       "      <th>RendaMovelRua</th>\n",
       "      <th>Vu2009</th>\n",
       "      <th>Mes</th>\n",
       "      <th>Idade</th>\n",
       "      <th>Tipologia</th>\n",
       "      <th>AreaConstruida</th>\n",
       "      <th>VAL_UNIT</th>\n",
       "      <th>X</th>\n",
       "      <th>Y</th>\n",
       "    </tr>\n",
       "  </thead>\n",
       "  <tbody>\n",
       "    <tr>\n",
       "      <th>count</th>\n",
       "      <td>1675.000000</td>\n",
       "      <td>1675.000000</td>\n",
       "      <td>1675.000000</td>\n",
       "      <td>1675.000000</td>\n",
       "      <td>1675.000000</td>\n",
       "      <td>1675.000000</td>\n",
       "      <td>1.675000e+03</td>\n",
       "      <td>1.675000e+03</td>\n",
       "      <td>1.675000e+03</td>\n",
       "      <td>1675.000000</td>\n",
       "      <td>1675.000000</td>\n",
       "      <td>1675.000000</td>\n",
       "      <td>1675.000000</td>\n",
       "      <td>1675.000000</td>\n",
       "      <td>1675.000000</td>\n",
       "      <td>1675.000000</td>\n",
       "      <td>1.675000e+03</td>\n",
       "    </tr>\n",
       "    <tr>\n",
       "      <th>mean</th>\n",
       "      <td>0.601791</td>\n",
       "      <td>1.767510</td>\n",
       "      <td>0.330842</td>\n",
       "      <td>2112.444179</td>\n",
       "      <td>353.662687</td>\n",
       "      <td>405.623284</td>\n",
       "      <td>1.232577e+06</td>\n",
       "      <td>1.214159e+06</td>\n",
       "      <td>1.223369e+06</td>\n",
       "      <td>2249.367164</td>\n",
       "      <td>646.903881</td>\n",
       "      <td>50.036442</td>\n",
       "      <td>1.071642</td>\n",
       "      <td>78.880597</td>\n",
       "      <td>8084.660896</td>\n",
       "      <td>685980.624667</td>\n",
       "      <td>7.458579e+06</td>\n",
       "    </tr>\n",
       "    <tr>\n",
       "      <th>std</th>\n",
       "      <td>0.489675</td>\n",
       "      <td>1.142523</td>\n",
       "      <td>0.576720</td>\n",
       "      <td>909.254397</td>\n",
       "      <td>241.712897</td>\n",
       "      <td>215.175421</td>\n",
       "      <td>2.454474e+05</td>\n",
       "      <td>3.502902e+05</td>\n",
       "      <td>2.718984e+05</td>\n",
       "      <td>518.861409</td>\n",
       "      <td>204.075055</td>\n",
       "      <td>11.611873</td>\n",
       "      <td>0.345134</td>\n",
       "      <td>59.504466</td>\n",
       "      <td>3742.027190</td>\n",
       "      <td>630.889668</td>\n",
       "      <td>7.564990e+02</td>\n",
       "    </tr>\n",
       "    <tr>\n",
       "      <th>min</th>\n",
       "      <td>0.000000</td>\n",
       "      <td>0.010000</td>\n",
       "      <td>0.010000</td>\n",
       "      <td>337.000000</td>\n",
       "      <td>31.000000</td>\n",
       "      <td>15.000000</td>\n",
       "      <td>4.982560e+05</td>\n",
       "      <td>4.426680e+05</td>\n",
       "      <td>4.982560e+05</td>\n",
       "      <td>780.000000</td>\n",
       "      <td>360.000000</td>\n",
       "      <td>0.010000</td>\n",
       "      <td>1.000000</td>\n",
       "      <td>15.000000</td>\n",
       "      <td>2037.000000</td>\n",
       "      <td>685024.810000</td>\n",
       "      <td>7.456842e+06</td>\n",
       "    </tr>\n",
       "    <tr>\n",
       "      <th>25%</th>\n",
       "      <td>0.000000</td>\n",
       "      <td>1.000000</td>\n",
       "      <td>0.010000</td>\n",
       "      <td>1414.000000</td>\n",
       "      <td>179.000000</td>\n",
       "      <td>226.500000</td>\n",
       "      <td>1.083455e+06</td>\n",
       "      <td>1.000877e+06</td>\n",
       "      <td>1.044084e+06</td>\n",
       "      <td>2000.000000</td>\n",
       "      <td>445.000000</td>\n",
       "      <td>44.000000</td>\n",
       "      <td>1.000000</td>\n",
       "      <td>38.000000</td>\n",
       "      <td>5000.000000</td>\n",
       "      <td>685472.150000</td>\n",
       "      <td>7.458048e+06</td>\n",
       "    </tr>\n",
       "    <tr>\n",
       "      <th>50%</th>\n",
       "      <td>1.000000</td>\n",
       "      <td>2.000000</td>\n",
       "      <td>0.010000</td>\n",
       "      <td>2259.000000</td>\n",
       "      <td>318.000000</td>\n",
       "      <td>403.000000</td>\n",
       "      <td>1.165764e+06</td>\n",
       "      <td>1.175438e+06</td>\n",
       "      <td>1.187842e+06</td>\n",
       "      <td>2200.000000</td>\n",
       "      <td>567.000000</td>\n",
       "      <td>53.000000</td>\n",
       "      <td>1.000000</td>\n",
       "      <td>63.000000</td>\n",
       "      <td>7212.000000</td>\n",
       "      <td>685792.470000</td>\n",
       "      <td>7.458776e+06</td>\n",
       "    </tr>\n",
       "    <tr>\n",
       "      <th>75%</th>\n",
       "      <td>1.000000</td>\n",
       "      <td>3.000000</td>\n",
       "      <td>1.000000</td>\n",
       "      <td>2805.500000</td>\n",
       "      <td>462.500000</td>\n",
       "      <td>576.500000</td>\n",
       "      <td>1.395924e+06</td>\n",
       "      <td>1.398392e+06</td>\n",
       "      <td>1.360872e+06</td>\n",
       "      <td>2500.000000</td>\n",
       "      <td>862.000000</td>\n",
       "      <td>57.000000</td>\n",
       "      <td>1.000000</td>\n",
       "      <td>98.500000</td>\n",
       "      <td>10606.000000</td>\n",
       "      <td>686490.585000</td>\n",
       "      <td>7.459228e+06</td>\n",
       "    </tr>\n",
       "    <tr>\n",
       "      <th>max</th>\n",
       "      <td>1.000000</td>\n",
       "      <td>6.000000</td>\n",
       "      <td>4.000000</td>\n",
       "      <td>3611.000000</td>\n",
       "      <td>1242.000000</td>\n",
       "      <td>851.000000</td>\n",
       "      <td>2.068724e+06</td>\n",
       "      <td>2.922751e+06</td>\n",
       "      <td>2.223676e+06</td>\n",
       "      <td>4100.000000</td>\n",
       "      <td>940.000000</td>\n",
       "      <td>75.000000</td>\n",
       "      <td>3.000000</td>\n",
       "      <td>668.000000</td>\n",
       "      <td>24490.000000</td>\n",
       "      <td>687253.719900</td>\n",
       "      <td>7.459698e+06</td>\n",
       "    </tr>\n",
       "  </tbody>\n",
       "</table>\n",
       "</div>"
      ],
      "text/plain": [
       "           Posicao      Quartos        Vagas  DistIpanema    DistPraia  \\\n",
       "count  1675.000000  1675.000000  1675.000000  1675.000000  1675.000000   \n",
       "mean      0.601791     1.767510     0.330842  2112.444179   353.662687   \n",
       "std       0.489675     1.142523     0.576720   909.254397   241.712897   \n",
       "min       0.000000     0.010000     0.010000   337.000000    31.000000   \n",
       "25%       0.000000     1.000000     0.010000  1414.000000   179.000000   \n",
       "50%       1.000000     2.000000     0.010000  2259.000000   318.000000   \n",
       "75%       1.000000     3.000000     1.000000  2805.500000   462.500000   \n",
       "max       1.000000     6.000000     4.000000  3611.000000  1242.000000   \n",
       "\n",
       "        DistFavela    RendaMedia    RendaMovel  RendaMovelRua       Vu2009  \\\n",
       "count  1675.000000  1.675000e+03  1.675000e+03   1.675000e+03  1675.000000   \n",
       "mean    405.623284  1.232577e+06  1.214159e+06   1.223369e+06  2249.367164   \n",
       "std     215.175421  2.454474e+05  3.502902e+05   2.718984e+05   518.861409   \n",
       "min      15.000000  4.982560e+05  4.426680e+05   4.982560e+05   780.000000   \n",
       "25%     226.500000  1.083455e+06  1.000877e+06   1.044084e+06  2000.000000   \n",
       "50%     403.000000  1.165764e+06  1.175438e+06   1.187842e+06  2200.000000   \n",
       "75%     576.500000  1.395924e+06  1.398392e+06   1.360872e+06  2500.000000   \n",
       "max     851.000000  2.068724e+06  2.922751e+06   2.223676e+06  4100.000000   \n",
       "\n",
       "               Mes        Idade    Tipologia  AreaConstruida      VAL_UNIT  \\\n",
       "count  1675.000000  1675.000000  1675.000000     1675.000000   1675.000000   \n",
       "mean    646.903881    50.036442     1.071642       78.880597   8084.660896   \n",
       "std     204.075055    11.611873     0.345134       59.504466   3742.027190   \n",
       "min     360.000000     0.010000     1.000000       15.000000   2037.000000   \n",
       "25%     445.000000    44.000000     1.000000       38.000000   5000.000000   \n",
       "50%     567.000000    53.000000     1.000000       63.000000   7212.000000   \n",
       "75%     862.000000    57.000000     1.000000       98.500000  10606.000000   \n",
       "max     940.000000    75.000000     3.000000      668.000000  24490.000000   \n",
       "\n",
       "                   X             Y  \n",
       "count    1675.000000  1.675000e+03  \n",
       "mean   685980.624667  7.458579e+06  \n",
       "std       630.889668  7.564990e+02  \n",
       "min    685024.810000  7.456842e+06  \n",
       "25%    685472.150000  7.458048e+06  \n",
       "50%    685792.470000  7.458776e+06  \n",
       "75%    686490.585000  7.459228e+06  \n",
       "max    687253.719900  7.459698e+06  "
      ]
     },
     "execution_count": 8,
     "metadata": {},
     "output_type": "execute_result"
    }
   ],
   "source": [
    "# Dados númericos (note que os dados categoricos não aparecem)\n",
    "copacabana.describe()"
   ]
  },
  {
   "cell_type": "code",
   "execution_count": null,
   "metadata": {},
   "outputs": [],
   "source": [
    "# Note que as variaveis Quartos e Vagas são as que mais variam para o valor unitario\n",
    "plt.figure(figsize=(20, 16))\n",
    "ax=plt.subplot(221)\n",
    "sns.barplot(x='VAL_UNIT', y='Quartos', data=copacabana, orient=1)\n",
    "plt.title('Quartos')\n",
    "ax=plt.subplot(222)\n",
    "sns.barplot(x='VAL_UNIT', y='Posicao', data=copacabana, orient=1)\n",
    "plt.title('Posicao')\n",
    "ax=plt.subplot(223)\n",
    "sns.barplot(x='VAL_UNIT', y='Vagas', data=copacabana, orient=1)\n",
    "plt.title('Vagas')\n",
    "ax=plt.subplot(224)\n",
    "sns.barplot(x='VAL_UNIT', y='Tipologia', data=copacabana, orient=1)\n",
    "plt.title('Tipologia')\n",
    "plt.show()"
   ]
  },
  {
   "cell_type": "code",
   "execution_count": null,
   "metadata": {},
   "outputs": [],
   "source": [
    "# Correlação entre os atributos (isso pode demorar, pois existem muitos atributos)\n",
    "sns.pairplot(copacabana)\n",
    "plt.show()"
   ]
  },
  {
   "cell_type": "code",
   "execution_count": null,
   "metadata": {},
   "outputs": [],
   "source": [
    "# Valor Unitário por area construida e por distancia de Ipanema\n",
    "f, ax = plt.subplots(figsize=(15, 15))\n",
    "ax1 = sns.scatterplot(x=\"VAL_UNIT\", y=\"AreaConstruida\",\n",
    "                hue=\"DistIpanema\", size='RendaMovel',\n",
    "                linewidth=0,\n",
    "                data=copacabana, ax=ax)"
   ]
  },
  {
   "cell_type": "code",
   "execution_count": null,
   "metadata": {},
   "outputs": [],
   "source": [
    "# Valor Unitário por area construida e por distancia da Favela\n",
    "f, ax = plt.subplots(figsize=(15, 15))\n",
    "ax1 = sns.scatterplot(x=\"VAL_UNIT\", y=\"AreaConstruida\",\n",
    "                hue=\"DistFavela\", size='RendaMovel',\n",
    "                linewidth=0,\n",
    "                data=copacabana, ax=ax)"
   ]
  },
  {
   "cell_type": "code",
   "execution_count": null,
   "metadata": {},
   "outputs": [],
   "source": [
    "# Valor Unitário por area construida e por distancia da Praia\n",
    "f, ax = plt.subplots(figsize=(15, 15))\n",
    "ax1 = sns.scatterplot(x=\"VAL_UNIT\", y=\"AreaConstruida\",\n",
    "                hue=\"DistPraia\", size='RendaMovel',\n",
    "                linewidth=0,\n",
    "                data=copacabana, ax=ax)"
   ]
  },
  {
   "cell_type": "markdown",
   "metadata": {},
   "source": [
    "## 2. Separe a feature target em um conjunto de dados separado."
   ]
  },
  {
   "cell_type": "code",
   "execution_count": null,
   "metadata": {},
   "outputs": [],
   "source": [
    "# Separar a variavel alvo (target) do conjunto de dados\n",
    "Y = copacabana['VAL_UNIT']\n",
    "X = copacabana.drop('VAL_UNIT', axis=1)\n",
    "feature_names = X.columns\n",
    "\n",
    "print(X.shape, Y.shape)"
   ]
  },
  {
   "cell_type": "markdown",
   "metadata": {},
   "source": [
    "## 3. Separe agora os conjuntos em treino, validação e teste usando a proporção 70/20/10."
   ]
  },
  {
   "cell_type": "code",
   "execution_count": null,
   "metadata": {
    "scrolled": true
   },
   "outputs": [],
   "source": [
    "# Separar aleatoriamente 70% para treino, 20% para validacao e 10% para teste\n",
    "X_train, X_temp, Y_train, Y_temp = train_test_split(X,Y,train_size=0.7,random_state=42)\n",
    "X_val, X_test, Y_val, Y_test = train_test_split(X_temp,Y_temp,train_size=0.67,random_state=42)\n",
    "print(X_train.shape, Y_train.shape, X_val.shape, Y_val.shape, X_test.shape, Y_test.shape)"
   ]
  },
  {
   "cell_type": "markdown",
   "metadata": {},
   "source": [
    "## 4. Normalize os dados"
   ]
  },
  {
   "cell_type": "code",
   "execution_count": null,
   "metadata": {},
   "outputs": [],
   "source": [
    "# Analise da grandeza dos dados\n",
    "plt.figure(figsize=(15, 5))\n",
    "sns.boxplot(data=X_train)\n",
    "plt.show()"
   ]
  },
  {
   "cell_type": "code",
   "execution_count": null,
   "metadata": {},
   "outputs": [],
   "source": [
    "X_train.head()"
   ]
  },
  {
   "cell_type": "code",
   "execution_count": null,
   "metadata": {},
   "outputs": [],
   "source": [
    "# transformar em numpy.array\n",
    "x_train = X_train.to_numpy()\n",
    "y_train = Y_train.to_numpy()\n",
    "x_val = X_val.to_numpy()\n",
    "y_val = Y_val.to_numpy()\n",
    "x_test = X_test.to_numpy()\n",
    "y_test = Y_test.to_numpy()"
   ]
  },
  {
   "cell_type": "code",
   "execution_count": null,
   "metadata": {},
   "outputs": [],
   "source": [
    "# índice dos atributos categóricos e numéricos\n",
    "categ_atrib = [0,1,2,10,12]\n",
    "num_atrib = [3,4,5,6,7,8,9,11,13,14,15]\n",
    "print('numéricas', num_atrib)\n",
    "print('categóricas', categ_atrib)\n",
    "\n",
    "\n",
    "#usar drop first para evitar colinearidade na regressão linear\n",
    "#one-hot encoding somente nas colunas categóricas e normalização z-norm nas numéricas\n",
    "# onehotencoder transforma uma coluna em uma coluna de vetores binarios\n",
    "enc = ColumnTransformer([('onehot',OneHotEncoder(sparse=False, handle_unknown='ignore',categories='auto'), \n",
    "                          categ_atrib),\n",
    "                         ('z-norm',StandardScaler(), num_atrib)], verbose=True)\n",
    "\n",
    "print(enc)\n",
    "# nao pode fazer fit em dados de teste e validacao ********************\n",
    "x_train = enc.fit_transform(x_train)\n",
    "x_val = enc.transform(x_val)\n",
    "x_test = enc.transform(x_test)\n",
    "\n",
    "print(x_train.shape)\n",
    "print(x_val.shape)\n",
    "print(x_test.shape)"
   ]
  },
  {
   "cell_type": "code",
   "execution_count": null,
   "metadata": {
    "scrolled": true
   },
   "outputs": [],
   "source": [
    "# Os dados foram transformados para a mesma grandeza\n",
    "pd.DataFrame(x_train).describe()"
   ]
  },
  {
   "cell_type": "code",
   "execution_count": null,
   "metadata": {
    "scrolled": true
   },
   "outputs": [],
   "source": [
    "plt.figure(figsize=(15, 5))\n",
    "sns.boxplot(data=x_train)\n",
    "plt.show()"
   ]
  },
  {
   "cell_type": "markdown",
   "metadata": {},
   "source": [
    "## 5. Execute uma regressão linear com todas as features."
   ]
  },
  {
   "cell_type": "code",
   "execution_count": null,
   "metadata": {},
   "outputs": [],
   "source": [
    "# Criar o objeto de regressão linear\n",
    "regr = linear_model.LinearRegression()\n",
    "\n",
    "# Treinar o modelo usando os conjuntos de treino com as features e o target\n",
    "regr.fit(x_train, y_train)"
   ]
  },
  {
   "cell_type": "markdown",
   "metadata": {},
   "source": [
    "## 6. Faça a predição sobre o conjunto de testes."
   ]
  },
  {
   "cell_type": "code",
   "execution_count": null,
   "metadata": {},
   "outputs": [],
   "source": [
    "# Fazer as predições usando o conjunto de validação\n",
    "yb_pred = regr.predict(x_val)"
   ]
  },
  {
   "cell_type": "markdown",
   "metadata": {},
   "source": [
    "## 7. Calcule o Erro Médio Quadrático MAE e o Coeficiente de Determinação R2 \n",
    "## Explique cada um."
   ]
  },
  {
   "cell_type": "code",
   "execution_count": null,
   "metadata": {
    "scrolled": true
   },
   "outputs": [],
   "source": [
    "# Mostra os coeficientes\n",
    "print('Coeficientes: \\n', regr.coef_)\n",
    "# Mostra o erro quadrado médio\n",
    "print(\"Mean squared error: %.4f\"\n",
    "      % mean_squared_error(y_val, yb_pred))\n",
    "# Coeficiente de Determinação Rˆ2 - r ao quadrado: 1 é a previsão perfeita  yval:valor real ybpred valor preditor\n",
    "print('Coeficiente de Determinação: %.4f' % r2_score(y_val, yb_pred))"
   ]
  },
  {
   "cell_type": "markdown",
   "metadata": {},
   "source": [
    "### Explicação: \n",
    "\n",
    "O Mean Squared Error (Erro Quadrático Médio) é a diferença entre o estimador e o valor ao quadrado. O coeficiente de determinação descreve o quão adequado o modelo de regressão linear está em relação aos valores analisados, o valor deve estar entre 0 e 1 onde mais aproximado de 1 é adequado."
   ]
  },
  {
   "cell_type": "markdown",
   "metadata": {},
   "source": [
    "## 8. Plote as predições em validação."
   ]
  },
  {
   "cell_type": "code",
   "execution_count": null,
   "metadata": {},
   "outputs": [],
   "source": [
    "# Plota a saída\n",
    "plt.figure(figsize=(20, 15))\n",
    "x = list(range(len(x_val)))\n",
    "plt.scatter(x, y_val,  color='black')\n",
    "plt.plot(x, yb_pred, color='yellow', linewidth=3)\n",
    "\n",
    "plt.xticks(())\n",
    "plt.yticks(())\n",
    "\n",
    "plt.show()"
   ]
  },
  {
   "cell_type": "code",
   "execution_count": null,
   "metadata": {},
   "outputs": [],
   "source": [
    "# teste modelo\n",
    "regrp_pred_teste = regr.predict(x_test)\n",
    "\n",
    "# Mostra o erro quadrado médio\n",
    "print(\"Mean squared error: %.4f\"\n",
    "      % mean_squared_error(y_test, regrp_pred_teste))\n",
    "# Coeficiente de Determinação Rˆ2 - r ao quadrado: 1 é a previsão perfeita\n",
    "print('Coeficiente de Determinação: %.4f' % r2_score(y_test, regrp_pred_teste))"
   ]
  },
  {
   "cell_type": "code",
   "execution_count": null,
   "metadata": {},
   "outputs": [],
   "source": [
    "# Plota a saída\n",
    "plt.figure(figsize=(20, 15))\n",
    "x = list(range(len(x_test)))\n",
    "plt.scatter(x, y_test,  color='black')\n",
    "plt.plot(x, regrp_pred_teste, color='grey', linewidth=3)\n",
    "\n",
    "plt.xticks(())\n",
    "plt.yticks(())\n",
    "\n",
    "plt.show()"
   ]
  },
  {
   "cell_type": "markdown",
   "metadata": {},
   "source": [
    "## 9. Analise novamente os dados e remova as features que você acha que não estão agregando muita informação ao modelo. Faça uma análise de correlações para ajudar nas remoções."
   ]
  },
  {
   "cell_type": "code",
   "execution_count": null,
   "metadata": {},
   "outputs": [],
   "source": [
    "# Remover Quartos, Tipologia, Vagas, Posicao\n",
    "x_train = X_train.drop(['Quartos','Tipologia', 'Vagas','Posicao'], axis=1).to_numpy()\n",
    "x_val = X_val.drop(['Quartos','Tipologia', 'Vagas','Posicao'], axis=1).to_numpy()\n",
    "x_test = X_test.drop(['Quartos','Tipologia', 'Vagas','Posicao'], axis=1).to_numpy()\n",
    "print(x_train.shape, y_train.shape)"
   ]
  },
  {
   "cell_type": "code",
   "execution_count": null,
   "metadata": {},
   "outputs": [],
   "source": [
    "plt.figure(figsize=(15, 5))\n",
    "sns.boxplot(data=x_train)\n",
    "plt.show()"
   ]
  },
  {
   "cell_type": "markdown",
   "metadata": {},
   "source": [
    "## 10. Execute novamente os passos de 4 a 8, agora com o conjunto de dados reduzidos."
   ]
  },
  {
   "cell_type": "code",
   "execution_count": null,
   "metadata": {},
   "outputs": [],
   "source": [
    "# índice dos atributos categóricos e numéricos\n",
    "categ_atrib = []\n",
    "num_atrib = [0,1,2,3,4,5,6,7,8,9,10]\n",
    "print('numéricas', num_atrib)\n",
    "print('categóricas', categ_atrib)\n",
    "\n",
    "#fazer one-hot encoding da feature bairro; \n",
    "#usar drop first para evitar colinearidade na regressão linear\n",
    "#one-hot encoding somente nas colunas categóricas e normalização z-norm nas numéricas\n",
    "enc = ColumnTransformer([('onehot',OneHotEncoder(sparse=False, handle_unknown='ignore'), categ_atrib),\n",
    "                         ('z-norm',StandardScaler(), num_atrib)], verbose=True)\n",
    "\n",
    "print(enc)\n",
    "x_train = enc.fit_transform(x_train)\n",
    "x_val = enc.transform(x_val)\n",
    "x_test = enc.transform(x_test)\n",
    "\n",
    "print(x_train.shape)\n",
    "print(x_val.shape)\n",
    "print(x_test.shape)"
   ]
  },
  {
   "cell_type": "code",
   "execution_count": null,
   "metadata": {
    "scrolled": true
   },
   "outputs": [],
   "source": [
    "pd.DataFrame(x_train).describe()"
   ]
  },
  {
   "cell_type": "code",
   "execution_count": null,
   "metadata": {},
   "outputs": [],
   "source": [
    "plt.figure(figsize=(15, 5))\n",
    "sns.boxplot(data=x_train)\n",
    "plt.show()"
   ]
  },
  {
   "cell_type": "code",
   "execution_count": null,
   "metadata": {},
   "outputs": [],
   "source": [
    "# Criar o objeto de regressão linear\n",
    "regrp = linear_model.LinearRegression()\n",
    "\n",
    "# Treinar o modelo usando os conjuntos de treino com as features e o target\n",
    "regrp.fit(x_train, y_train)\n",
    "\n",
    "# Fazer as predições usando o conjunto de validaçao\n",
    "yp_pred = regrp.predict(x_val)"
   ]
  },
  {
   "cell_type": "code",
   "execution_count": null,
   "metadata": {},
   "outputs": [],
   "source": [
    "# Mostra os coeficientes\n",
    "print('Coeficientes: \\n', regrp.coef_)\n",
    "# Mostra o erro quadrado médio\n",
    "print(\"Mean squared error: %.4f\"\n",
    "      % mean_squared_error(y_val, yp_pred))\n",
    "# Coeficiente de Determinação Rˆ2 - r ao quadrado: 1 é a previsão perfeita\n",
    "print('Coeficiente de Determinação: %.4f' % r2_score(y_val, yp_pred))"
   ]
  },
  {
   "cell_type": "code",
   "execution_count": null,
   "metadata": {},
   "outputs": [],
   "source": [
    "# Plota a saída\n",
    "plt.figure(figsize=(20, 15))\n",
    "x = list(range(len(x_val)))\n",
    "plt.scatter(x, yp_pred,  color='black')\n",
    "plt.plot(x, yp_pred, color='green', linewidth=2)\n",
    "\n",
    "plt.xticks(())\n",
    "plt.yticks(())\n",
    "\n",
    "plt.show()"
   ]
  },
  {
   "cell_type": "code",
   "execution_count": null,
   "metadata": {},
   "outputs": [],
   "source": [
    "# teste modelo\n",
    "regrp2_pred_teste = regrp.predict(x_test)\n",
    "\n",
    "# Mostra o erro quadrado médio\n",
    "print(\"Mean squared error: %.4f\"\n",
    "      % mean_squared_error(y_test, regrp2_pred_teste))\n",
    "# Coeficiente de Determinação Rˆ2 - r ao quadrado: 1 é a previsão perfeita\n",
    "print('Coeficiente de Determinação: %.4f' % r2_score(y_test, regrp2_pred_teste))"
   ]
  },
  {
   "cell_type": "code",
   "execution_count": null,
   "metadata": {},
   "outputs": [],
   "source": [
    "# Plota a saída\n",
    "plt.figure(figsize=(20, 15))\n",
    "x = list(range(len(x_test)))\n",
    "plt.scatter(x, y_test,  color='black')\n",
    "plt.plot(x, regrp2_pred_teste, color='grey', linewidth=3)\n",
    "\n",
    "plt.xticks(())\n",
    "plt.yticks(())\n",
    "\n",
    "plt.show()"
   ]
  },
  {
   "cell_type": "markdown",
   "metadata": {},
   "source": [
    "## 11. Escolha um modelo dos Ensembles do Scikit-Learn."
   ]
  },
  {
   "cell_type": "markdown",
   "metadata": {},
   "source": [
    "### Utilização do modelo GradientBoosting estudado em aula"
   ]
  },
  {
   "cell_type": "code",
   "execution_count": null,
   "metadata": {},
   "outputs": [],
   "source": [
    "# transformar em numpy.array\n",
    "x_train = X_train.to_numpy()\n",
    "y_train = Y_train.to_numpy()\n",
    "x_val = X_val.to_numpy()\n",
    "y_val = Y_val.to_numpy()\n",
    "x_test = X_test.to_numpy()\n",
    "y_test = Y_test.to_numpy()"
   ]
  },
  {
   "cell_type": "code",
   "execution_count": null,
   "metadata": {},
   "outputs": [],
   "source": [
    "# índice dos atributos categóricos e numéricos\n",
    "categ_atrib = [0,1,2,10,12]\n",
    "num_atrib = [3,4,5,6,7,8,9,11,13,14,15]\n",
    "print('numéricas', num_atrib)\n",
    "print('categóricas', categ_atrib)\n",
    "\n",
    "#normalização z-norm nas numéricas\n",
    "# ordinal encoder é baseado em arvores e faz uma coluna ainda nao precisa quebrar em varias binarias\n",
    "enc = ColumnTransformer([('ordinal',OrdinalEncoder(categories='auto'), categ_atrib),\n",
    "                         ('z-norm',StandardScaler(), num_atrib)], verbose=True)\n",
    "\n",
    "print(enc)\n",
    "x_train = enc.fit_transform(x_train)\n",
    "x_val = enc.transform(x_val)\n",
    "x_test = enc.transform(x_test)\n",
    "\n",
    "print(x_train.shape)\n",
    "print(x_val.shape)\n",
    "print(x_test.shape)"
   ]
  },
  {
   "cell_type": "code",
   "execution_count": null,
   "metadata": {},
   "outputs": [],
   "source": [
    "# #############################################################################\n",
    "# Fit regression model\n",
    "params = {'n_estimators': 5000, 'max_depth': 4, 'min_samples_split': 2,\n",
    "          'learning_rate': 0.01, 'loss': 'ls'}\n",
    "clf = GradientBoostingRegressor(**params)\n",
    "\n",
    "clf.fit(x_train, y_train)\n",
    "\n",
    "ygbr_pred = clf.predict(x_val)\n",
    "\n",
    "# Mostra o erro quadrado médio\n",
    "print(\"Mean squared error: %.4f\"\n",
    "      % mean_squared_error(y_val, ygbr_pred))\n",
    "# Coeficiente de Determinação Rˆ2 - r ao quadrado: 1 é a previsão perfeita\n",
    "print('Coeficiente de Determinação: %.4f' % r2_score(y_val, ygbr_pred))"
   ]
  },
  {
   "cell_type": "code",
   "execution_count": null,
   "metadata": {
    "scrolled": true
   },
   "outputs": [],
   "source": [
    "# Plota a saída\n",
    "plt.figure(figsize=(20, 15))\n",
    "x = list(range(len(x_val)))\n",
    "plt.scatter(x, y_val,  color='black')\n",
    "plt.plot(x, ygbr_pred, color='blue', linewidth=3)\n",
    "\n",
    "plt.xticks(())\n",
    "plt.yticks(())\n",
    "\n",
    "plt.show()"
   ]
  },
  {
   "cell_type": "code",
   "execution_count": null,
   "metadata": {},
   "outputs": [],
   "source": [
    "# teste do melhor modelo\n",
    "ygbr_pred_teste = clf.predict(x_test)\n",
    "\n",
    "# Mostra o erro quadrado médio\n",
    "print(\"Mean squared error: %.4f\"\n",
    "      % mean_squared_error(y_test, ygbr_pred_teste))\n",
    "# Coeficiente de Determinação Rˆ2 - r ao quadrado: 1 é a previsão perfeita\n",
    "print('Coeficiente de Determinação: %.4f' % r2_score(y_test, ygbr_pred_teste))"
   ]
  },
  {
   "cell_type": "code",
   "execution_count": null,
   "metadata": {},
   "outputs": [],
   "source": [
    "# Plota a saída\n",
    "plt.figure(figsize=(20, 15))\n",
    "x = list(range(len(x_test)))\n",
    "plt.scatter(x, y_test,  color='black')\n",
    "plt.plot(x, ygbr_pred_teste, color='grey', linewidth=3)\n",
    "\n",
    "plt.xticks(())\n",
    "plt.yticks(())\n",
    "\n",
    "plt.show()"
   ]
  },
  {
   "cell_type": "code",
   "execution_count": null,
   "metadata": {},
   "outputs": [],
   "source": [
    "# #############################################################################\n",
    "# Plot training deviance\n",
    "\n",
    "# compute test set deviance\n",
    "test_score = np.zeros((params['n_estimators'],), dtype=np.float64)\n",
    "\n",
    "for i, ygbr_pred_teste in enumerate(clf.staged_predict(x_test)):\n",
    "    test_score[i] = clf.loss_(y_test, ygbr_pred_teste)\n",
    "\n",
    "plt.figure(figsize=(12, 6))\n",
    "plt.subplot(1, 2, 1)\n",
    "plt.title('Deviance')\n",
    "plt.plot(np.arange(params['n_estimators']) + 1, clf.train_score_, 'b-',\n",
    "         label='Training Set Deviance')\n",
    "plt.plot(np.arange(params['n_estimators']) + 1, test_score, 'r-',\n",
    "         label='Test Set Deviance')\n",
    "plt.legend(loc='upper right')\n",
    "plt.xlabel('Boosting Iterations')\n",
    "plt.ylabel('Deviance')"
   ]
  },
  {
   "cell_type": "code",
   "execution_count": null,
   "metadata": {
    "scrolled": false
   },
   "outputs": [],
   "source": [
    "# #############################################################################\n",
    "# Plot feature importance\n",
    "feature_importance = clf.feature_importances_\n",
    "# make importances relative to max importance\n",
    "feature_importance = 100.0 * (feature_importance / feature_importance.max())\n",
    "sorted_idx = np.argsort(feature_importance)\n",
    "pos = np.arange(sorted_idx.shape[0]) + .5\n",
    "plt.subplot(1, 2, 2)\n",
    "plt.barh(pos, feature_importance[sorted_idx], align='center')\n",
    "plt.yticks(pos, feature_names[sorted_idx])\n",
    "plt.xlabel('Relative Importance')\n",
    "plt.title('Variable Importance')\n",
    "plt.show()"
   ]
  },
  {
   "cell_type": "markdown",
   "metadata": {},
   "source": [
    "## Conclusão\n",
    "\n",
    "O melhor modelo deste caso foi o GradientBoosting, com coeficiente de determinação R2 de 0.68 nas validações, já a regressão linear sem a retirada dos valores teve desempenho de 0.71. O modelo GradientBoosting conseguiu um coeficiente de determinação R2 de 0.75 nos testes comparado ao de regressão linear, tendo maior quantidade de acertos. Além disso teve o menor MAE. Quanto a diminuição das features categóricas, o modelo perdeu a qualidade em acertos reduzindo de  0.75 para 0.70."
   ]
  },
  {
   "cell_type": "markdown",
   "metadata": {},
   "source": [
    "## 14. Qual é a feature que mais estava prejudicando os resultados?"
   ]
  },
  {
   "cell_type": "markdown",
   "metadata": {},
   "source": [
    "As features de renda estavam fora dos padrões dos outros valores, sendo necessário realizar a normalização do conjunto de dados."
   ]
  },
  {
   "cell_type": "code",
   "execution_count": null,
   "metadata": {},
   "outputs": [],
   "source": []
  }
 ],
 "metadata": {
  "kernelspec": {
   "display_name": "Python 3",
   "language": "python",
   "name": "python3"
  },
  "language_info": {
   "codemirror_mode": {
    "name": "ipython",
    "version": 3
   },
   "file_extension": ".py",
   "mimetype": "text/x-python",
   "name": "python",
   "nbconvert_exporter": "python",
   "pygments_lexer": "ipython3",
   "version": "3.6.4"
  }
 },
 "nbformat": 4,
 "nbformat_minor": 2
}
