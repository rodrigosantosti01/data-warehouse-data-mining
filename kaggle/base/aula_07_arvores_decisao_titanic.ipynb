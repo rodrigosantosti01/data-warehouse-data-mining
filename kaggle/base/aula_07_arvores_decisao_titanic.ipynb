{
 "cells": [
  {
   "cell_type": "code",
   "execution_count": 2,
   "metadata": {},
   "outputs": [
    {
     "ename": "ImportError",
     "evalue": "cannot import name 'OrdinalEncoder'",
     "output_type": "error",
     "traceback": [
      "\u001b[1;31m---------------------------------------------------------------------------\u001b[0m",
      "\u001b[1;31mImportError\u001b[0m                               Traceback (most recent call last)",
      "\u001b[1;32m<ipython-input-2-d2da3d582f25>\u001b[0m in \u001b[0;36m<module>\u001b[1;34m()\u001b[0m\n\u001b[0;32m      6\u001b[0m \u001b[1;32mimport\u001b[0m \u001b[0mpandas\u001b[0m \u001b[1;32mas\u001b[0m \u001b[0mpd\u001b[0m\u001b[1;33m\u001b[0m\u001b[0m\n\u001b[0;32m      7\u001b[0m \u001b[1;32mfrom\u001b[0m \u001b[0msklearn\u001b[0m\u001b[1;33m.\u001b[0m\u001b[0mmodel_selection\u001b[0m \u001b[1;32mimport\u001b[0m \u001b[0mtrain_test_split\u001b[0m\u001b[1;33m\u001b[0m\u001b[0m\n\u001b[1;32m----> 8\u001b[1;33m \u001b[1;32mfrom\u001b[0m \u001b[0msklearn\u001b[0m\u001b[1;33m.\u001b[0m\u001b[0mpreprocessing\u001b[0m \u001b[1;32mimport\u001b[0m \u001b[0mOrdinalEncoder\u001b[0m\u001b[1;33m\u001b[0m\u001b[0m\n\u001b[0m\u001b[0;32m      9\u001b[0m \u001b[1;32mfrom\u001b[0m \u001b[0msklearn\u001b[0m\u001b[1;33m.\u001b[0m\u001b[0mcompose\u001b[0m \u001b[1;32mimport\u001b[0m \u001b[0mColumnTransformer\u001b[0m\u001b[1;33m\u001b[0m\u001b[0m\n\u001b[0;32m     10\u001b[0m \u001b[1;32mimport\u001b[0m \u001b[0mpydataset\u001b[0m\u001b[1;33m\u001b[0m\u001b[0m\n",
      "\u001b[1;31mImportError\u001b[0m: cannot import name 'OrdinalEncoder'"
     ]
    }
   ],
   "source": [
    "#!pip install pydataset\n",
    "import matplotlib.pyplot as plt\n",
    "import seaborn as sns\n",
    "import matplotlib\n",
    "import numpy as np\n",
    "import pandas as pd\n",
    "from sklearn.model_selection import train_test_split \n",
    "from sklearn.preprocessing import OrdinalEncoder\n",
    "from sklearn.compose import ColumnTransformer\n",
    "import pydataset\n",
    "from random import seed\n",
    "# fixar a semente para que os resultados sejam repetíveis\n",
    "seed(42)"
   ]
  },
  {
   "cell_type": "markdown",
   "metadata": {},
   "source": [
    "## Carga e Análise dos Dados"
   ]
  },
  {
   "cell_type": "code",
   "execution_count": 3,
   "metadata": {},
   "outputs": [
    {
     "ename": "NameError",
     "evalue": "name 'pydataset' is not defined",
     "output_type": "error",
     "traceback": [
      "\u001b[1;31m---------------------------------------------------------------------------\u001b[0m",
      "\u001b[1;31mNameError\u001b[0m                                 Traceback (most recent call last)",
      "\u001b[1;32m<ipython-input-3-b2501d060e00>\u001b[0m in \u001b[0;36m<module>\u001b[1;34m()\u001b[0m\n\u001b[1;32m----> 1\u001b[1;33m \u001b[0mtitanic\u001b[0m \u001b[1;33m=\u001b[0m \u001b[0mpydataset\u001b[0m\u001b[1;33m.\u001b[0m\u001b[0mdata\u001b[0m\u001b[1;33m(\u001b[0m\u001b[1;34m'titanic'\u001b[0m\u001b[1;33m)\u001b[0m\u001b[1;33m\u001b[0m\u001b[0m\n\u001b[0m",
      "\u001b[1;31mNameError\u001b[0m: name 'pydataset' is not defined"
     ]
    }
   ],
   "source": [
    "titanic = pydataset.data('titanic')"
   ]
  },
  {
   "cell_type": "code",
   "execution_count": 3,
   "metadata": {},
   "outputs": [
    {
     "data": {
      "text/html": [
       "<div>\n",
       "<style scoped>\n",
       "    .dataframe tbody tr th:only-of-type {\n",
       "        vertical-align: middle;\n",
       "    }\n",
       "\n",
       "    .dataframe tbody tr th {\n",
       "        vertical-align: top;\n",
       "    }\n",
       "\n",
       "    .dataframe thead th {\n",
       "        text-align: right;\n",
       "    }\n",
       "</style>\n",
       "<table border=\"1\" class=\"dataframe\">\n",
       "  <thead>\n",
       "    <tr style=\"text-align: right;\">\n",
       "      <th></th>\n",
       "      <th>class</th>\n",
       "      <th>age</th>\n",
       "      <th>sex</th>\n",
       "      <th>survived</th>\n",
       "    </tr>\n",
       "  </thead>\n",
       "  <tbody>\n",
       "    <tr>\n",
       "      <th>1</th>\n",
       "      <td>1st class</td>\n",
       "      <td>adults</td>\n",
       "      <td>man</td>\n",
       "      <td>yes</td>\n",
       "    </tr>\n",
       "    <tr>\n",
       "      <th>2</th>\n",
       "      <td>1st class</td>\n",
       "      <td>adults</td>\n",
       "      <td>man</td>\n",
       "      <td>yes</td>\n",
       "    </tr>\n",
       "    <tr>\n",
       "      <th>3</th>\n",
       "      <td>1st class</td>\n",
       "      <td>adults</td>\n",
       "      <td>man</td>\n",
       "      <td>yes</td>\n",
       "    </tr>\n",
       "    <tr>\n",
       "      <th>4</th>\n",
       "      <td>1st class</td>\n",
       "      <td>adults</td>\n",
       "      <td>man</td>\n",
       "      <td>yes</td>\n",
       "    </tr>\n",
       "    <tr>\n",
       "      <th>5</th>\n",
       "      <td>1st class</td>\n",
       "      <td>adults</td>\n",
       "      <td>man</td>\n",
       "      <td>yes</td>\n",
       "    </tr>\n",
       "  </tbody>\n",
       "</table>\n",
       "</div>"
      ],
      "text/plain": [
       "       class     age  sex survived\n",
       "1  1st class  adults  man      yes\n",
       "2  1st class  adults  man      yes\n",
       "3  1st class  adults  man      yes\n",
       "4  1st class  adults  man      yes\n",
       "5  1st class  adults  man      yes"
      ]
     },
     "execution_count": 3,
     "metadata": {},
     "output_type": "execute_result"
    }
   ],
   "source": [
    "titanic.head()"
   ]
  },
  {
   "cell_type": "code",
   "execution_count": 4,
   "metadata": {},
   "outputs": [
    {
     "data": {
      "text/plain": [
       "Index(['class', 'age', 'sex', 'survived'], dtype='object')"
      ]
     },
     "execution_count": 4,
     "metadata": {},
     "output_type": "execute_result"
    }
   ],
   "source": [
    "titanic.columns"
   ]
  },
  {
   "cell_type": "code",
   "execution_count": 5,
   "metadata": {},
   "outputs": [
    {
     "data": {
      "text/html": [
       "<div>\n",
       "<style scoped>\n",
       "    .dataframe tbody tr th:only-of-type {\n",
       "        vertical-align: middle;\n",
       "    }\n",
       "\n",
       "    .dataframe tbody tr th {\n",
       "        vertical-align: top;\n",
       "    }\n",
       "\n",
       "    .dataframe thead th {\n",
       "        text-align: right;\n",
       "    }\n",
       "</style>\n",
       "<table border=\"1\" class=\"dataframe\">\n",
       "  <thead>\n",
       "    <tr style=\"text-align: right;\">\n",
       "      <th></th>\n",
       "      <th>class</th>\n",
       "      <th>age</th>\n",
       "      <th>sex</th>\n",
       "      <th>survived</th>\n",
       "    </tr>\n",
       "  </thead>\n",
       "  <tbody>\n",
       "    <tr>\n",
       "      <th>count</th>\n",
       "      <td>1316</td>\n",
       "      <td>1316</td>\n",
       "      <td>1316</td>\n",
       "      <td>1316</td>\n",
       "    </tr>\n",
       "    <tr>\n",
       "      <th>unique</th>\n",
       "      <td>3</td>\n",
       "      <td>2</td>\n",
       "      <td>2</td>\n",
       "      <td>2</td>\n",
       "    </tr>\n",
       "    <tr>\n",
       "      <th>top</th>\n",
       "      <td>3rd class</td>\n",
       "      <td>adults</td>\n",
       "      <td>man</td>\n",
       "      <td>no</td>\n",
       "    </tr>\n",
       "    <tr>\n",
       "      <th>freq</th>\n",
       "      <td>706</td>\n",
       "      <td>1207</td>\n",
       "      <td>869</td>\n",
       "      <td>817</td>\n",
       "    </tr>\n",
       "  </tbody>\n",
       "</table>\n",
       "</div>"
      ],
      "text/plain": [
       "            class     age   sex survived\n",
       "count        1316    1316  1316     1316\n",
       "unique          3       2     2        2\n",
       "top     3rd class  adults   man       no\n",
       "freq          706    1207   869      817"
      ]
     },
     "execution_count": 5,
     "metadata": {},
     "output_type": "execute_result"
    }
   ],
   "source": [
    "titanic.describe()"
   ]
  },
  {
   "cell_type": "code",
   "execution_count": 6,
   "metadata": {},
   "outputs": [
    {
     "name": "stdout",
     "output_type": "stream",
     "text": [
      "<class 'pandas.core.frame.DataFrame'>\n",
      "Int64Index: 1316 entries, 1 to 1316\n",
      "Data columns (total 4 columns):\n",
      "class       1316 non-null object\n",
      "age         1316 non-null object\n",
      "sex         1316 non-null object\n",
      "survived    1316 non-null object\n",
      "dtypes: object(4)\n",
      "memory usage: 51.4+ KB\n"
     ]
    }
   ],
   "source": [
    "titanic.info()"
   ]
  },
  {
   "cell_type": "code",
   "execution_count": 7,
   "metadata": {},
   "outputs": [],
   "source": [
    "titanic['class'] = titanic['class'].astype('category')\n",
    "titanic['age'] = titanic['age'].astype('category')\n",
    "titanic['sex'] = titanic['sex'].astype('category')\n",
    "titanic['survived'] = titanic['survived'].astype('category')"
   ]
  },
  {
   "cell_type": "code",
   "execution_count": 8,
   "metadata": {},
   "outputs": [
    {
     "name": "stdout",
     "output_type": "stream",
     "text": [
      "<class 'pandas.core.frame.DataFrame'>\n",
      "Int64Index: 1316 entries, 1 to 1316\n",
      "Data columns (total 4 columns):\n",
      "class       1316 non-null category\n",
      "age         1316 non-null category\n",
      "sex         1316 non-null category\n",
      "survived    1316 non-null category\n",
      "dtypes: category(4)\n",
      "memory usage: 15.8 KB\n"
     ]
    }
   ],
   "source": [
    "titanic.info()"
   ]
  },
  {
   "cell_type": "markdown",
   "metadata": {},
   "source": [
    "### Balanceamento das classes\n",
    "\n",
    "O conjunto de dados está desbalanceado, havendo predominância da etiqueta 'no' que significa não sobreviveu."
   ]
  },
  {
   "cell_type": "code",
   "execution_count": 9,
   "metadata": {},
   "outputs": [
    {
     "data": {
      "image/png": "[encoded data removed]",
      "text/plain": [
       "<Figure size 1080x360 with 1 Axes>"
      ]
     },
     "metadata": {
      "needs_background": "light"
     },
     "output_type": "display_data"
    }
   ],
   "source": [
    "f, ax = plt.subplots(figsize=(15, 5))\n",
    "ax1 = sns.countplot(x=\"survived\",\n",
    "                linewidth=0,\n",
    "                data=titanic, ax=ax)"
   ]
  },
  {
   "cell_type": "markdown",
   "metadata": {},
   "source": [
    "### Sobrevivência por Classe\n",
    "\n",
    "Verifica-se que, em número absolutos, houve mais mortos na 3a classe. Apenas na 1a classe houve mais sobreviventes do que mortos."
   ]
  },
  {
   "cell_type": "code",
   "execution_count": 10,
   "metadata": {
    "scrolled": true
   },
   "outputs": [
    {
     "data": {
      "image/png": "[encoded data removed]",
      "text/plain": [
       "<Figure size 1080x360 with 1 Axes>"
      ]
     },
     "metadata": {
      "needs_background": "light"
     },
     "output_type": "display_data"
    }
   ],
   "source": [
    "f, ax = plt.subplots(figsize=(15, 5))\n",
    "ax1 = sns.countplot(x=\"class\",\n",
    "                hue=\"survived\",\n",
    "                linewidth=0,\n",
    "                data=titanic, ax=ax)"
   ]
  },
  {
   "cell_type": "markdown",
   "metadata": {},
   "source": [
    "### Sobrevivência por Idade\n",
    "Nota-se que o número de mortes superou largamente o número de sobreviventes entre adultos, enquanto entre crianças o número de mortos e sobreviventes foi praticamente o mesmo."
   ]
  },
  {
   "cell_type": "code",
   "execution_count": 11,
   "metadata": {},
   "outputs": [
    {
     "data": {
      "image/png": "[encoded data removed]",
      "text/plain": [
       "<Figure size 1080x360 with 1 Axes>"
      ]
     },
     "metadata": {
      "needs_background": "light"
     },
     "output_type": "display_data"
    }
   ],
   "source": [
    "f, ax = plt.subplots(figsize=(15, 5))\n",
    "ax1 = sns.countplot(x=\"age\",\n",
    "                hue=\"survived\",\n",
    "                linewidth=0,\n",
    "                data=titanic, ax=ax)"
   ]
  },
  {
   "cell_type": "markdown",
   "metadata": {},
   "source": [
    "### Sobrevivência por Sexo\n",
    "\n",
    "O número de mortes de indivíduos do sexo masculino foi mais do que o triplo do que o de sobreviventes. Contrariamente, mais do que o dobro de mulheres sobreviveu."
   ]
  },
  {
   "cell_type": "code",
   "execution_count": 12,
   "metadata": {
    "scrolled": true
   },
   "outputs": [
    {
     "data": {
      "image/png": "[encoded data removed]",
      "text/plain": [
       "<Figure size 1080x360 with 1 Axes>"
      ]
     },
     "metadata": {
      "needs_background": "light"
     },
     "output_type": "display_data"
    }
   ],
   "source": [
    "f, ax = plt.subplots(figsize=(15, 5))\n",
    "ax1 = sns.countplot(x=\"sex\",\n",
    "                hue=\"survived\",\n",
    "                linewidth=0,\n",
    "                data=titanic, ax=ax)"
   ]
  },
  {
   "cell_type": "markdown",
   "metadata": {},
   "source": [
    "### Sobrevivência por Sexo e Classe\n",
    "\n",
    "Juntando-se duas características, sexo e classe, nota-se que o número de mortes masculinas, em números absolutos, foi muito maior na 3a classe. Assim como o número de mortes femininas superou largamente o número de mortes de mulheres na 1a e 2a classes."
   ]
  },
  {
   "cell_type": "code",
   "execution_count": 13,
   "metadata": {},
   "outputs": [
    {
     "data": {
      "image/png": "[encoded data removed]",
      "text/plain": [
       "<Figure size 720x720 with 4 Axes>"
      ]
     },
     "metadata": {
      "needs_background": "light"
     },
     "output_type": "display_data"
    }
   ],
   "source": [
    "ax=sns.catplot(x='class', col='sex', row='survived', data=titanic,kind='count')"
   ]
  },
  {
   "cell_type": "markdown",
   "metadata": {},
   "source": [
    "### Sobrevivência por Classe e Idade"
   ]
  },
  {
   "cell_type": "code",
   "execution_count": 14,
   "metadata": {},
   "outputs": [
    {
     "data": {
      "image/png": "[encoded data removed]",
      "text/plain": [
       "<Figure size 720x720 with 4 Axes>"
      ]
     },
     "metadata": {
      "needs_background": "light"
     },
     "output_type": "display_data"
    }
   ],
   "source": [
    "ax=sns.catplot(x='class', col='age', row='survived', data=titanic,kind='count')"
   ]
  },
  {
   "cell_type": "markdown",
   "metadata": {},
   "source": [
    "### Sobrevivência por Sexo e Idade"
   ]
  },
  {
   "cell_type": "code",
   "execution_count": 15,
   "metadata": {},
   "outputs": [
    {
     "data": {
      "image/png": "[encoded data removed]",
      "text/plain": [
       "<Figure size 720x720 with 4 Axes>"
      ]
     },
     "metadata": {
      "needs_background": "light"
     },
     "output_type": "display_data"
    }
   ],
   "source": [
    "ax=sns.catplot(x='sex', col='age', row='survived', data=titanic,kind='count')"
   ]
  },
  {
   "cell_type": "code",
   "execution_count": 16,
   "metadata": {},
   "outputs": [],
   "source": [
    "# imprime um gráfico com barras agrupadas\n",
    "def grouped_box(g1, g2,label1, label2, grouped_labels, ylabel='', title='', rotation=0):\n",
    "\n",
    "    x = np.arange(len(grouped_labels))  # the label locations\n",
    "    width = 0.35  # the width of the bars\n",
    "\n",
    "    fig, ax = plt.subplots(figsize=(15, 8))\n",
    "    rects1 = ax.bar(x + width/2, g1, width, label=label1)\n",
    "    rects2 = ax.bar(x - width/2, g2, width, label=label2)\n",
    "\n",
    "    # Add some text for labels, title and custom x-axis tick labels, etc.\n",
    "    ax.set_ylabel(ylabel)\n",
    "    ax.set_title(title)\n",
    "    ax.set_xticks(x)\n",
    "    ax.set_xticklabels(grouped_labels)\n",
    "    ax.legend()\n",
    "    plt.xticks(rotation=rotation)\n",
    "\n",
    "\n",
    "    def autolabel(rects):\n",
    "        \"\"\"Attach a text label above each bar in *rects*, displaying its height.\"\"\"\n",
    "        for rect in rects:\n",
    "            height = rect.get_height()\n",
    "            ax.annotate('{}'.format(height),\n",
    "                        xy=(rect.get_x() + rect.get_width() / 2, height),\n",
    "                        xytext=(0, 3),  # 3 points vertical offset\n",
    "                        textcoords=\"offset points\",\n",
    "                        ha='center', va='bottom')\n",
    "\n",
    "\n",
    "    autolabel(rects1)\n",
    "    autolabel(rects2)\n",
    "\n",
    "    fig.tight_layout()\n",
    "\n",
    "    plt.show()"
   ]
  },
  {
   "cell_type": "code",
   "execution_count": 17,
   "metadata": {},
   "outputs": [
    {
     "name": "stdout",
     "output_type": "stream",
     "text": [
      "class      age     sex    survived\n",
      "1st class  adults  man    no          0.67\n",
      "                          yes         0.33\n",
      "                   women  no          0.03\n",
      "                          yes         0.97\n",
      "           child   man    yes         1.00\n",
      "                   women  yes         1.00\n",
      "2nd class  adults  man    no          0.92\n",
      "                          yes         0.08\n",
      "                   women  no          0.14\n",
      "                          yes         0.86\n",
      "           child   man    yes         1.00\n",
      "                   women  yes         1.00\n",
      "3rd class  adults  man    no          0.84\n",
      "                          yes         0.16\n",
      "                   women  no          0.54\n",
      "                          yes         0.46\n",
      "           child   man    no          0.73\n",
      "                          yes         0.27\n",
      "                   women  no          0.55\n",
      "                          yes         0.45\n",
      "Name: class, dtype: float64\n"
     ]
    }
   ],
   "source": [
    "titanic_grouped = titanic.groupby(['class','age','sex','survived'])['class'].count()\n",
    "survival_rate = round(titanic_grouped/titanic_grouped.sum(level=['class','age','sex']),2)\n",
    "print(survival_rate)"
   ]
  },
  {
   "cell_type": "code",
   "execution_count": 18,
   "metadata": {},
   "outputs": [
    {
     "data": {
      "image/png": "[encoded data removed]",
      "text/plain": [
       "<Figure size 1080x576 with 1 Axes>"
      ]
     },
     "metadata": {
      "needs_background": "light"
     },
     "output_type": "display_data"
    }
   ],
   "source": [
    "sr = survival_rate.unstack()\n",
    "group_labels = ['-'.join(i) for i in sr.index]\n",
    "survive_yes = sr['yes']\n",
    "survive_no = sr['no']\n",
    "grouped_box(g1=survive_yes, g2=survive_no, label1='yes', label2='no', \\\n",
    "            grouped_labels = group_labels, ylabel='Taxa', \\\n",
    "            title='Taxa de Sobrevivência por Classe, Idade e Sexo', rotation=60)"
   ]
  },
  {
   "cell_type": "markdown",
   "metadata": {},
   "source": [
    "## Separação dos dados em treinamento, validação e teste\n",
    "Usando 70-20-10 com proporcionalidade de classes."
   ]
  },
  {
   "cell_type": "code",
   "execution_count": 19,
   "metadata": {},
   "outputs": [
    {
     "name": "stdout",
     "output_type": "stream",
     "text": [
      "(1316, 3) (1316,)\n"
     ]
    }
   ],
   "source": [
    "# Separar a variavel alvo (target) do conjunto de dados e converter para numpy.array\n",
    "Y = titanic['survived']\n",
    "X = titanic.drop('survived', axis=1)\n",
    "feature_names = X.columns\n",
    "print(X.shape, Y.shape)"
   ]
  },
  {
   "cell_type": "code",
   "execution_count": 20,
   "metadata": {},
   "outputs": [
    {
     "name": "stdout",
     "output_type": "stream",
     "text": [
      "(921, 3) (921,) (237, 3) (237,) (158, 3) (158,)\n"
     ]
    }
   ],
   "source": [
    "# Separar aleatoriamente 70% para treino, 20% para validacao e 10% para teste\n",
    "X_train, X_temp, Y_train, Y_temp = train_test_split(X,Y,train_size=0.7,random_state=42,stratify=Y)\n",
    "X_val, X_test, Y_val, Y_test = train_test_split(X_temp,Y_temp,train_size=0.6,random_state=42,stratify=Y_temp)\n",
    "print(X_train.shape, Y_train.shape, X_val.shape, Y_val.shape, X_test.shape, Y_test.shape)"
   ]
  },
  {
   "cell_type": "markdown",
   "metadata": {},
   "source": [
    "### Verificando a proporcionalidade das classes"
   ]
  },
  {
   "cell_type": "code",
   "execution_count": 21,
   "metadata": {},
   "outputs": [
    {
     "name": "stdout",
     "output_type": "stream",
     "text": [
      "Percentual da maior classe no dataset (no): 62.08\n",
      "Percentual da maior classe em treinamento (no): 62.11\n",
      "Percentual da maior classe em validação (no): 62.03\n",
      "Percentual da maior classe em teste (no): 62.03\n"
     ]
    }
   ],
   "source": [
    "print('Percentual da maior classe no dataset (%s): %0.2f' % (Y.describe().top, 100*Y.describe().freq/len(Y)))\n",
    "print('Percentual da maior classe em treinamento (%s): %0.2f' % (Y_train.describe().top, 100*Y_train.describe().freq/len(Y_train)))\n",
    "print('Percentual da maior classe em validação (%s): %0.2f' % (Y_val.describe().top, 100*Y_val.describe().freq/len(Y_val)))\n",
    "print('Percentual da maior classe em teste (%s): %0.2f' % (Y_test.describe().top, 100*Y_test.describe().freq/len(Y_test)))"
   ]
  },
  {
   "cell_type": "code",
   "execution_count": 22,
   "metadata": {},
   "outputs": [],
   "source": [
    "# transformar em numpy.array\n",
    "x_train = X_train.to_numpy()\n",
    "y_train = Y_train.to_numpy()\n",
    "x_val = X_val.to_numpy()\n",
    "y_val = Y_val.to_numpy()\n",
    "x_test = X_test.to_numpy()\n",
    "y_test = Y_test.to_numpy()"
   ]
  },
  {
   "cell_type": "markdown",
   "metadata": {},
   "source": [
    "## Tratamento dos dados\n",
    "A normalização é desnecessária para árvores de decisão, mas os atributos categóricos precisam ser transformados de caractere em ordinais porque o Scikit ainda não aceita strings. Inclusive a feature alvo (Y)."
   ]
  },
  {
   "cell_type": "code",
   "execution_count": 23,
   "metadata": {},
   "outputs": [
    {
     "name": "stdout",
     "output_type": "stream",
     "text": [
      "ColumnTransformer(n_jobs=None, remainder='drop', sparse_threshold=0.3,\n",
      "                  transformer_weights=None,\n",
      "                  transformers=[('ordinal',\n",
      "                                 OrdinalEncoder(categories='auto',\n",
      "                                                dtype=<class 'numpy.float64'>),\n",
      "                                 [0, 1, 2])],\n",
      "                  verbose=True)\n",
      "[ColumnTransformer] ....... (1 of 1) Processing ordinal, total=   0.0s\n",
      "(921, 3)\n",
      "(237, 3)\n",
      "(158, 3)\n",
      "OrdinalEncoder(categories=[['yes', 'no']], dtype=<class 'numpy.float64'>)\n",
      "(921,)\n",
      "(237,)\n",
      "(158,)\n"
     ]
    }
   ],
   "source": [
    "# índice dos atributos categóricos\n",
    "categ_atrib = [0,1,2]\n",
    "\n",
    "encX = ColumnTransformer([('ordinal',OrdinalEncoder(), categ_atrib)], verbose=True)\n",
    "\n",
    "print(encX)\n",
    "x_train = encX.fit_transform(x_train)\n",
    "x_val = encX.transform(x_val)\n",
    "x_test = encX.transform(x_test)\n",
    "\n",
    "print(x_train.shape)\n",
    "print(x_val.shape)\n",
    "print(x_test.shape)\n",
    "\n",
    "labels = ['yes', 'no']\n",
    "# reshape necessário para fazer o encoder\n",
    "y_train = y_train.reshape(-1,1)\n",
    "y_val = y_val.reshape(-1,1)\n",
    "y_test = y_test.reshape(-1,1)\n",
    "\n",
    "enc_y = OrdinalEncoder(categories = [labels])\n",
    "print(enc_y)\n",
    "y_train = enc_y.fit_transform(y_train)\n",
    "y_val = enc_y.transform(y_val)\n",
    "y_test = enc_y.transform(y_test)\n",
    "# y volta para o shape original\n",
    "y_train = y_train.ravel()\n",
    "y_val = y_val.ravel()\n",
    "y_test = y_test.ravel()\n",
    "print(y_train.shape)\n",
    "print(y_val.shape)\n",
    "print(y_test.shape)"
   ]
  },
  {
   "cell_type": "markdown",
   "metadata": {},
   "source": [
    "#### Função de matriz de decisão para análise dos resultados"
   ]
  },
  {
   "cell_type": "code",
   "execution_count": 24,
   "metadata": {},
   "outputs": [],
   "source": [
    "import pandas as pd\n",
    "import matplotlib.pyplot as plt\n",
    "import seaborn as sns\n",
    "from sklearn.metrics import classification_report, confusion_matrix, balanced_accuracy_score\n",
    "\n",
    "def heat_map_matriz(y_test, y_pred, labels):\n",
    "    c = confusion_matrix(y_test, y_pred)\n",
    "    r = c / c.sum(axis=1).reshape(-1, 1)\n",
    "\n",
    "    print(classification_report(y_test, y_pred, target_names=labels, digits=4))\n",
    "    bal_acc = balanced_accuracy_score(y_test, y_pred)\n",
    "    print('balanced accuracy: %.4f' % round(bal_acc,4))\n",
    "\n",
    "    sns.set_context(\"talk\")\n",
    "    plt.figure(figsize=(8, 4))\n",
    "    plt.title('Matriz de Confusão - Heatmap')\n",
    "    sns.heatmap(r, linewidths=.5, cmap='YlGnBu', xticklabels=labels, yticklabels=labels, annot=True, fmt='.1%')\n",
    "    plt.show()\n",
    "    sns.set_context(\"notebook\")\n",
    "    return bal_acc"
   ]
  },
  {
   "cell_type": "markdown",
   "metadata": {},
   "source": [
    "## Resultados"
   ]
  },
  {
   "cell_type": "code",
   "execution_count": 25,
   "metadata": {},
   "outputs": [],
   "source": [
    "# para armazenar resultados e modelos\n",
    "lista_modelos = ['Árvore de Decisão', 'AD Regularizada','Floresta Aleatória', 'Floresta Balanceada', 'Floresta SMOTE']"
   ]
  },
  {
   "cell_type": "code",
   "execution_count": 26,
   "metadata": {},
   "outputs": [],
   "source": [
    "modelos = dict()\n",
    "acc_train = dict()\n",
    "acc_val = dict()"
   ]
  },
  {
   "cell_type": "markdown",
   "metadata": {},
   "source": [
    "## Modelo Baseline\n",
    "Árvore de decisão com parâmetros default."
   ]
  },
  {
   "cell_type": "code",
   "execution_count": 27,
   "metadata": {},
   "outputs": [
    {
     "name": "stdout",
     "output_type": "stream",
     "text": [
      "DecisionTreeClassifier(class_weight=None, criterion='gini', max_depth=None,\n",
      "                       max_features=None, max_leaf_nodes=None,\n",
      "                       min_impurity_decrease=0.0, min_impurity_split=None,\n",
      "                       min_samples_leaf=1, min_samples_split=2,\n",
      "                       min_weight_fraction_leaf=0.0, presort=False,\n",
      "                       random_state=42, splitter='best')\n"
     ]
    }
   ],
   "source": [
    "from sklearn.tree import DecisionTreeClassifier\n",
    "\n",
    "base_clf = DecisionTreeClassifier(random_state=42)\n",
    "base_clf.fit(x_train, y_train)\n",
    "modelos['base_clf']=base_clf\n",
    "print(base_clf)"
   ]
  },
  {
   "cell_type": "markdown",
   "metadata": {},
   "source": [
    "### Avaliação em Treinamento"
   ]
  },
  {
   "cell_type": "code",
   "execution_count": 28,
   "metadata": {},
   "outputs": [
    {
     "name": "stdout",
     "output_type": "stream",
     "text": [
      "Matriz de confusão - real nas linhas, preditos nas colunas.\n"
     ]
    },
    {
     "data": {
      "text/html": [
       "<div>\n",
       "<style scoped>\n",
       "    .dataframe tbody tr th:only-of-type {\n",
       "        vertical-align: middle;\n",
       "    }\n",
       "\n",
       "    .dataframe tbody tr th {\n",
       "        vertical-align: top;\n",
       "    }\n",
       "\n",
       "    .dataframe thead th {\n",
       "        text-align: right;\n",
       "    }\n",
       "</style>\n",
       "<table border=\"1\" class=\"dataframe\">\n",
       "  <thead>\n",
       "    <tr style=\"text-align: right;\">\n",
       "      <th></th>\n",
       "      <th>yes</th>\n",
       "      <th>no</th>\n",
       "    </tr>\n",
       "  </thead>\n",
       "  <tbody>\n",
       "    <tr>\n",
       "      <th>yes</th>\n",
       "      <td>232</td>\n",
       "      <td>117</td>\n",
       "    </tr>\n",
       "    <tr>\n",
       "      <th>no</th>\n",
       "      <td>69</td>\n",
       "      <td>503</td>\n",
       "    </tr>\n",
       "  </tbody>\n",
       "</table>\n",
       "</div>"
      ],
      "text/plain": [
       "     yes   no\n",
       "yes  232  117\n",
       "no    69  503"
      ]
     },
     "execution_count": 28,
     "metadata": {},
     "output_type": "execute_result"
    }
   ],
   "source": [
    "y_pred = base_clf.predict(x_train)\n",
    "c = confusion_matrix(y_train, y_pred)\n",
    "print('Matriz de confusão - real nas linhas, preditos nas colunas.')\n",
    "pd.DataFrame(c,index=labels,columns=labels)"
   ]
  },
  {
   "cell_type": "code",
   "execution_count": 29,
   "metadata": {},
   "outputs": [
    {
     "name": "stdout",
     "output_type": "stream",
     "text": [
      "              precision    recall  f1-score   support\n",
      "\n",
      "         yes     0.7708    0.6648    0.7138       349\n",
      "          no     0.8113    0.8794    0.8440       572\n",
      "\n",
      "    accuracy                         0.7980       921\n",
      "   macro avg     0.7910    0.7721    0.7789       921\n",
      "weighted avg     0.7959    0.7980    0.7947       921\n",
      "\n",
      "balanced accuracy: 0.7721\n"
     ]
    },
    {
     "data": {
      "image/png": "[encoded data removed]",
      "text/plain": [
       "<Figure size 576x288 with 2 Axes>"
      ]
     },
     "metadata": {
      "needs_background": "light"
     },
     "output_type": "display_data"
    }
   ],
   "source": [
    "acc_train['base_clf']=heat_map_matriz(y_train, y_pred, labels)"
   ]
  },
  {
   "cell_type": "markdown",
   "metadata": {},
   "source": [
    "### Avaliação em Validação"
   ]
  },
  {
   "cell_type": "code",
   "execution_count": 30,
   "metadata": {},
   "outputs": [
    {
     "name": "stdout",
     "output_type": "stream",
     "text": [
      "Matriz de confusão - real nas linhas, preditos nas colunas.\n"
     ]
    },
    {
     "data": {
      "text/html": [
       "<div>\n",
       "<style scoped>\n",
       "    .dataframe tbody tr th:only-of-type {\n",
       "        vertical-align: middle;\n",
       "    }\n",
       "\n",
       "    .dataframe tbody tr th {\n",
       "        vertical-align: top;\n",
       "    }\n",
       "\n",
       "    .dataframe thead th {\n",
       "        text-align: right;\n",
       "    }\n",
       "</style>\n",
       "<table border=\"1\" class=\"dataframe\">\n",
       "  <thead>\n",
       "    <tr style=\"text-align: right;\">\n",
       "      <th></th>\n",
       "      <th>yes</th>\n",
       "      <th>no</th>\n",
       "    </tr>\n",
       "  </thead>\n",
       "  <tbody>\n",
       "    <tr>\n",
       "      <th>yes</th>\n",
       "      <td>56</td>\n",
       "      <td>34</td>\n",
       "    </tr>\n",
       "    <tr>\n",
       "      <th>no</th>\n",
       "      <td>22</td>\n",
       "      <td>125</td>\n",
       "    </tr>\n",
       "  </tbody>\n",
       "</table>\n",
       "</div>"
      ],
      "text/plain": [
       "     yes   no\n",
       "yes   56   34\n",
       "no    22  125"
      ]
     },
     "execution_count": 30,
     "metadata": {},
     "output_type": "execute_result"
    }
   ],
   "source": [
    "y_pred = base_clf.predict(x_val)\n",
    "c = confusion_matrix(y_val, y_pred)\n",
    "print('Matriz de confusão - real nas linhas, preditos nas colunas.')\n",
    "pd.DataFrame(c,index=labels,columns=labels)"
   ]
  },
  {
   "cell_type": "code",
   "execution_count": 31,
   "metadata": {},
   "outputs": [
    {
     "name": "stdout",
     "output_type": "stream",
     "text": [
      "              precision    recall  f1-score   support\n",
      "\n",
      "         yes     0.7179    0.6222    0.6667        90\n",
      "          no     0.7862    0.8503    0.8170       147\n",
      "\n",
      "    accuracy                         0.7637       237\n",
      "   macro avg     0.7521    0.7363    0.7418       237\n",
      "weighted avg     0.7603    0.7637    0.7599       237\n",
      "\n",
      "balanced accuracy: 0.7363\n"
     ]
    },
    {
     "data": {
      "image/png": "[encoded data removed]",
      "text/plain": [
       "<Figure size 576x288 with 2 Axes>"
      ]
     },
     "metadata": {
      "needs_background": "light"
     },
     "output_type": "display_data"
    }
   ],
   "source": [
    "acc_val['base_clf']=heat_map_matriz(y_val, y_pred, labels)"
   ]
  },
  {
   "cell_type": "markdown",
   "metadata": {},
   "source": [
    "### Análise"
   ]
  },
  {
   "cell_type": "code",
   "execution_count": 32,
   "metadata": {},
   "outputs": [
    {
     "name": "stdout",
     "output_type": "stream",
     "text": [
      "Acurácia balanceada em treinamento: 77.21%\n",
      "Acurácia balanceada em validação  : 73.63%\n",
      "Diferença treinamento e validação :  3.58%\n"
     ]
    }
   ],
   "source": [
    "print('Acurácia balanceada em treinamento: %5.2f' %(100.0*acc_train['base_clf'])+'%')\n",
    "print('Acurácia balanceada em validação  : %5.2f' %(100.0*acc_val['base_clf'])+'%')\n",
    "print('Diferença treinamento e validação : %5.2f' %(100.0*(acc_train['base_clf']-acc_val['base_clf']))+'%')"
   ]
  },
  {
   "cell_type": "markdown",
   "metadata": {},
   "source": [
    "- Acurácia balanceada em treinamento pouco maior que em validação. Overfitting improvável. \n",
    "- Classe yes, que está em menor número, com maior erro."
   ]
  },
  {
   "cell_type": "markdown",
   "metadata": {},
   "source": [
    "## Modelo Melhorado 1\n",
    "Árvore de decisão com regularização. Alteração do hiperparâmetro `max_depht`."
   ]
  },
  {
   "cell_type": "code",
   "execution_count": 33,
   "metadata": {},
   "outputs": [
    {
     "name": "stdout",
     "output_type": "stream",
     "text": [
      "DecisionTreeClassifier(class_weight=None, criterion='gini', max_depth=2,\n",
      "                       max_features=None, max_leaf_nodes=None,\n",
      "                       min_impurity_decrease=0.0, min_impurity_split=None,\n",
      "                       min_samples_leaf=1, min_samples_split=2,\n",
      "                       min_weight_fraction_leaf=0.0, presort=False,\n",
      "                       random_state=42, splitter='best')\n"
     ]
    }
   ],
   "source": [
    "from sklearn.tree import DecisionTreeClassifier\n",
    "\n",
    "dt1_clf = DecisionTreeClassifier(max_depth=2, random_state=42)\n",
    "dt1_clf.fit(x_train, y_train)\n",
    "modelos['dt1_clf']=base_clf\n",
    "print(dt1_clf)"
   ]
  },
  {
   "cell_type": "markdown",
   "metadata": {},
   "source": [
    "### Avaliação em Treinamento"
   ]
  },
  {
   "cell_type": "code",
   "execution_count": 34,
   "metadata": {},
   "outputs": [
    {
     "name": "stdout",
     "output_type": "stream",
     "text": [
      "Matriz de confusão - real nas linhas, preditos nas colunas.\n"
     ]
    },
    {
     "data": {
      "text/html": [
       "<div>\n",
       "<style scoped>\n",
       "    .dataframe tbody tr th:only-of-type {\n",
       "        vertical-align: middle;\n",
       "    }\n",
       "\n",
       "    .dataframe tbody tr th {\n",
       "        vertical-align: top;\n",
       "    }\n",
       "\n",
       "    .dataframe thead th {\n",
       "        text-align: right;\n",
       "    }\n",
       "</style>\n",
       "<table border=\"1\" class=\"dataframe\">\n",
       "  <thead>\n",
       "    <tr style=\"text-align: right;\">\n",
       "      <th></th>\n",
       "      <th>yes</th>\n",
       "      <th>no</th>\n",
       "    </tr>\n",
       "  </thead>\n",
       "  <tbody>\n",
       "    <tr>\n",
       "      <th>yes</th>\n",
       "      <td>164</td>\n",
       "      <td>185</td>\n",
       "    </tr>\n",
       "    <tr>\n",
       "      <th>no</th>\n",
       "      <td>12</td>\n",
       "      <td>560</td>\n",
       "    </tr>\n",
       "  </tbody>\n",
       "</table>\n",
       "</div>"
      ],
      "text/plain": [
       "     yes   no\n",
       "yes  164  185\n",
       "no    12  560"
      ]
     },
     "execution_count": 34,
     "metadata": {},
     "output_type": "execute_result"
    }
   ],
   "source": [
    "y_pred = dt1_clf.predict(x_train)\n",
    "c = confusion_matrix(y_train, y_pred)\n",
    "print('Matriz de confusão - real nas linhas, preditos nas colunas.')\n",
    "pd.DataFrame(c,index=labels,columns=labels)"
   ]
  },
  {
   "cell_type": "code",
   "execution_count": 35,
   "metadata": {},
   "outputs": [
    {
     "name": "stdout",
     "output_type": "stream",
     "text": [
      "              precision    recall  f1-score   support\n",
      "\n",
      "         yes     0.9318    0.4699    0.6248       349\n",
      "          no     0.7517    0.9790    0.8504       572\n",
      "\n",
      "    accuracy                         0.7861       921\n",
      "   macro avg     0.8417    0.7245    0.7376       921\n",
      "weighted avg     0.8199    0.7861    0.7649       921\n",
      "\n",
      "balanced accuracy: 0.7245\n"
     ]
    },
    {
     "data": {
      "image/png": "[encoded data removed]",
      "text/plain": [
       "<Figure size 576x288 with 2 Axes>"
      ]
     },
     "metadata": {
      "needs_background": "light"
     },
     "output_type": "display_data"
    }
   ],
   "source": [
    "acc_train['dt1_clf']=heat_map_matriz(y_train, y_pred, labels)"
   ]
  },
  {
   "cell_type": "markdown",
   "metadata": {},
   "source": [
    "### Avaliação em Validação"
   ]
  },
  {
   "cell_type": "code",
   "execution_count": 36,
   "metadata": {},
   "outputs": [
    {
     "name": "stdout",
     "output_type": "stream",
     "text": [
      "Matriz de confusão - real nas linhas, preditos nas colunas.\n"
     ]
    },
    {
     "data": {
      "text/html": [
       "<div>\n",
       "<style scoped>\n",
       "    .dataframe tbody tr th:only-of-type {\n",
       "        vertical-align: middle;\n",
       "    }\n",
       "\n",
       "    .dataframe tbody tr th {\n",
       "        vertical-align: top;\n",
       "    }\n",
       "\n",
       "    .dataframe thead th {\n",
       "        text-align: right;\n",
       "    }\n",
       "</style>\n",
       "<table border=\"1\" class=\"dataframe\">\n",
       "  <thead>\n",
       "    <tr style=\"text-align: right;\">\n",
       "      <th></th>\n",
       "      <th>yes</th>\n",
       "      <th>no</th>\n",
       "    </tr>\n",
       "  </thead>\n",
       "  <tbody>\n",
       "    <tr>\n",
       "      <th>yes</th>\n",
       "      <td>41</td>\n",
       "      <td>49</td>\n",
       "    </tr>\n",
       "    <tr>\n",
       "      <th>no</th>\n",
       "      <td>3</td>\n",
       "      <td>144</td>\n",
       "    </tr>\n",
       "  </tbody>\n",
       "</table>\n",
       "</div>"
      ],
      "text/plain": [
       "     yes   no\n",
       "yes   41   49\n",
       "no     3  144"
      ]
     },
     "execution_count": 36,
     "metadata": {},
     "output_type": "execute_result"
    }
   ],
   "source": [
    "y_pred = dt1_clf.predict(x_val)\n",
    "c = confusion_matrix(y_val, y_pred)\n",
    "print('Matriz de confusão - real nas linhas, preditos nas colunas.')\n",
    "pd.DataFrame(c,index=labels,columns=labels)"
   ]
  },
  {
   "cell_type": "code",
   "execution_count": 37,
   "metadata": {},
   "outputs": [
    {
     "name": "stdout",
     "output_type": "stream",
     "text": [
      "              precision    recall  f1-score   support\n",
      "\n",
      "         yes     0.9318    0.4556    0.6119        90\n",
      "          no     0.7461    0.9796    0.8471       147\n",
      "\n",
      "    accuracy                         0.7806       237\n",
      "   macro avg     0.8390    0.7176    0.7295       237\n",
      "weighted avg     0.8166    0.7806    0.7578       237\n",
      "\n",
      "balanced accuracy: 0.7176\n"
     ]
    },
    {
     "data": {
      "image/png": "[encoded data removed]",
      "text/plain": [
       "<Figure size 576x288 with 2 Axes>"
      ]
     },
     "metadata": {
      "needs_background": "light"
     },
     "output_type": "display_data"
    }
   ],
   "source": [
    "acc_val['dt1_clf']=heat_map_matriz(y_val, y_pred, labels)"
   ]
  },
  {
   "cell_type": "markdown",
   "metadata": {},
   "source": [
    "### Análise"
   ]
  },
  {
   "cell_type": "code",
   "execution_count": 38,
   "metadata": {},
   "outputs": [
    {
     "name": "stdout",
     "output_type": "stream",
     "text": [
      "Acurácia balanceada em treinamento: 72.45%\n",
      "Acurácia balanceada em validação  : 71.76%\n",
      "Diferença treinamento e validação :  0.69%\n"
     ]
    }
   ],
   "source": [
    "print('Acurácia balanceada em treinamento: %5.2f' %(100.0*acc_train['dt1_clf'])+'%')\n",
    "print('Acurácia balanceada em validação  : %5.2f' %(100.0*acc_val['dt1_clf'])+'%')\n",
    "print('Diferença treinamento e validação : %5.2f' %(100.0*(acc_train['dt1_clf']-acc_val['dt1_clf']))+'%')"
   ]
  },
  {
   "cell_type": "markdown",
   "metadata": {},
   "source": [
    "- Acurácia balanceada em treinamento quase igual a validação. Não há overfitting. \n",
    "- Como a acurácia caiu, podemos dizer que agora há underfitting.\n",
    "- Classe yes, que está em menor número, com maior erro. Classe no com acerto quase total."
   ]
  },
  {
   "cell_type": "markdown",
   "metadata": {},
   "source": [
    "## Ensemble Learning\n",
    "\n",
    "Suponha que você faça uma pergunta complexa a milhares de pessoas aleatórias e depois agregue suas respostas. Em muitos casos, você descobrirá que essa resposta agregada é melhor que a resposta de um especialista. Isso é chamado de sabedoria da multidão. Da mesma forma, se você agregar as previsões de um grupo de preditores (como classificadores ou regressores), geralmente obterá melhores previsões do que com o melhor preditor individual. Um grupo de preditores é chamado de *ensemble* (conjunto); portanto, essa técnica é chamada de Ensemble Learning, e um algoritmo de Ensemble Learning é chamado de Método Ensemble.\n",
    "\n",
    "Por exemplo, você pode treinar um grupo de classificadores da Árvore de Decisão, cada um em um subconjunto aleatório diferente do conjunto de treinamento. Para fazer previsões, basta obter as previsões de todas as árvores individuais e prever a classe que obtém mais votos. Esse conjunto de árvores de decisão é chamado de Floresta Aleatória (*Random Forest*) e, apesar de sua simplicidade, este é um dos mais poderosos algoritmos de aprendizado de máquina disponíveis atualmente."
   ]
  },
  {
   "cell_type": "markdown",
   "metadata": {},
   "source": [
    "## Modelo Melhorado 2 - Random Forests\n",
    "Usaremos um número bem grande de árvores, sem restrições, para ver se melhoramos os resultados para a classe `yes`."
   ]
  },
  {
   "cell_type": "code",
   "execution_count": 39,
   "metadata": {},
   "outputs": [],
   "source": [
    "from sklearn.ensemble import RandomForestClassifier, ExtraTreesClassifier, AdaBoostClassifier,GradientBoostingClassifier"
   ]
  },
  {
   "cell_type": "code",
   "execution_count": 40,
   "metadata": {},
   "outputs": [
    {
     "data": {
      "text/plain": [
       "RandomForestClassifier(bootstrap=True, class_weight=None, criterion='gini',\n",
       "                       max_depth=None, max_features='auto', max_leaf_nodes=None,\n",
       "                       min_impurity_decrease=0.0, min_impurity_split=None,\n",
       "                       min_samples_leaf=1, min_samples_split=2,\n",
       "                       min_weight_fraction_leaf=0.0, n_estimators=5000,\n",
       "                       n_jobs=None, oob_score=False, random_state=42, verbose=0,\n",
       "                       warm_start=False)"
      ]
     },
     "execution_count": 40,
     "metadata": {},
     "output_type": "execute_result"
    }
   ],
   "source": [
    "rf_clf = RandomForestClassifier(n_estimators=5000, random_state=42)\n",
    "rf_clf.fit(x_train,y_train)\n",
    "modelos['rf_clf'] = rf_clf\n",
    "rf_clf"
   ]
  },
  {
   "cell_type": "markdown",
   "metadata": {},
   "source": [
    "### Avaliação em Treinamento"
   ]
  },
  {
   "cell_type": "code",
   "execution_count": 41,
   "metadata": {},
   "outputs": [
    {
     "name": "stdout",
     "output_type": "stream",
     "text": [
      "Matriz de confusão - real nas linhas, preditos nas colunas.\n"
     ]
    },
    {
     "data": {
      "text/html": [
       "<div>\n",
       "<style scoped>\n",
       "    .dataframe tbody tr th:only-of-type {\n",
       "        vertical-align: middle;\n",
       "    }\n",
       "\n",
       "    .dataframe tbody tr th {\n",
       "        vertical-align: top;\n",
       "    }\n",
       "\n",
       "    .dataframe thead th {\n",
       "        text-align: right;\n",
       "    }\n",
       "</style>\n",
       "<table border=\"1\" class=\"dataframe\">\n",
       "  <thead>\n",
       "    <tr style=\"text-align: right;\">\n",
       "      <th></th>\n",
       "      <th>yes</th>\n",
       "      <th>no</th>\n",
       "    </tr>\n",
       "  </thead>\n",
       "  <tbody>\n",
       "    <tr>\n",
       "      <th>yes</th>\n",
       "      <td>175</td>\n",
       "      <td>174</td>\n",
       "    </tr>\n",
       "    <tr>\n",
       "      <th>no</th>\n",
       "      <td>12</td>\n",
       "      <td>560</td>\n",
       "    </tr>\n",
       "  </tbody>\n",
       "</table>\n",
       "</div>"
      ],
      "text/plain": [
       "     yes   no\n",
       "yes  175  174\n",
       "no    12  560"
      ]
     },
     "execution_count": 41,
     "metadata": {},
     "output_type": "execute_result"
    }
   ],
   "source": [
    "y_pred = rf_clf.predict(x_train)\n",
    "c = confusion_matrix(y_train, y_pred)\n",
    "print('Matriz de confusão - real nas linhas, preditos nas colunas.')\n",
    "pd.DataFrame(c,index=labels,columns=labels)"
   ]
  },
  {
   "cell_type": "code",
   "execution_count": 42,
   "metadata": {},
   "outputs": [
    {
     "name": "stdout",
     "output_type": "stream",
     "text": [
      "              precision    recall  f1-score   support\n",
      "\n",
      "         yes     0.9358    0.5014    0.6530       349\n",
      "          no     0.7629    0.9790    0.8576       572\n",
      "\n",
      "    accuracy                         0.7980       921\n",
      "   macro avg     0.8494    0.7402    0.7553       921\n",
      "weighted avg     0.8285    0.7980    0.7801       921\n",
      "\n",
      "balanced accuracy: 0.7402\n"
     ]
    },
    {
     "data": {
      "image/png": "[encoded data removed]",
      "text/plain": [
       "<Figure size 576x288 with 2 Axes>"
      ]
     },
     "metadata": {
      "needs_background": "light"
     },
     "output_type": "display_data"
    }
   ],
   "source": [
    "acc_train['rf_clf']=heat_map_matriz(y_train, y_pred, labels)"
   ]
  },
  {
   "cell_type": "markdown",
   "metadata": {},
   "source": [
    "### Avaliação em Validação"
   ]
  },
  {
   "cell_type": "code",
   "execution_count": 43,
   "metadata": {},
   "outputs": [
    {
     "name": "stdout",
     "output_type": "stream",
     "text": [
      "Matriz de confusão - real nas linhas, preditos nas colunas.\n"
     ]
    },
    {
     "data": {
      "text/html": [
       "<div>\n",
       "<style scoped>\n",
       "    .dataframe tbody tr th:only-of-type {\n",
       "        vertical-align: middle;\n",
       "    }\n",
       "\n",
       "    .dataframe tbody tr th {\n",
       "        vertical-align: top;\n",
       "    }\n",
       "\n",
       "    .dataframe thead th {\n",
       "        text-align: right;\n",
       "    }\n",
       "</style>\n",
       "<table border=\"1\" class=\"dataframe\">\n",
       "  <thead>\n",
       "    <tr style=\"text-align: right;\">\n",
       "      <th></th>\n",
       "      <th>yes</th>\n",
       "      <th>no</th>\n",
       "    </tr>\n",
       "  </thead>\n",
       "  <tbody>\n",
       "    <tr>\n",
       "      <th>yes</th>\n",
       "      <td>46</td>\n",
       "      <td>44</td>\n",
       "    </tr>\n",
       "    <tr>\n",
       "      <th>no</th>\n",
       "      <td>3</td>\n",
       "      <td>144</td>\n",
       "    </tr>\n",
       "  </tbody>\n",
       "</table>\n",
       "</div>"
      ],
      "text/plain": [
       "     yes   no\n",
       "yes   46   44\n",
       "no     3  144"
      ]
     },
     "execution_count": 43,
     "metadata": {},
     "output_type": "execute_result"
    }
   ],
   "source": [
    "y_pred = rf_clf.predict(x_val)\n",
    "c = confusion_matrix(y_val, y_pred)\n",
    "print('Matriz de confusão - real nas linhas, preditos nas colunas.')\n",
    "pd.DataFrame(c,index=labels,columns=labels)"
   ]
  },
  {
   "cell_type": "code",
   "execution_count": 44,
   "metadata": {},
   "outputs": [
    {
     "name": "stdout",
     "output_type": "stream",
     "text": [
      "              precision    recall  f1-score   support\n",
      "\n",
      "         yes     0.9388    0.5111    0.6619        90\n",
      "          no     0.7660    0.9796    0.8597       147\n",
      "\n",
      "    accuracy                         0.8017       237\n",
      "   macro avg     0.8524    0.7454    0.7608       237\n",
      "weighted avg     0.8316    0.8017    0.7846       237\n",
      "\n",
      "balanced accuracy: 0.7454\n"
     ]
    },
    {
     "data": {
      "image/png": "[encoded data removed]",
      "text/plain": [
       "<Figure size 576x288 with 2 Axes>"
      ]
     },
     "metadata": {
      "needs_background": "light"
     },
     "output_type": "display_data"
    }
   ],
   "source": [
    "acc_val['rf_clf']=heat_map_matriz(y_val, y_pred, labels)"
   ]
  },
  {
   "cell_type": "markdown",
   "metadata": {},
   "source": [
    "### Análise"
   ]
  },
  {
   "cell_type": "code",
   "execution_count": 45,
   "metadata": {},
   "outputs": [
    {
     "name": "stdout",
     "output_type": "stream",
     "text": [
      "Acurácia balanceada em treinamento: 74.02%\n",
      "Acurácia balanceada em validação  : 74.54%\n",
      "Diferença treinamento e validação : -0.51%\n"
     ]
    }
   ],
   "source": [
    "print('Acurácia balanceada em treinamento: %5.2f' %(100.0*acc_train['rf_clf'])+'%')\n",
    "print('Acurácia balanceada em validação  : %5.2f' %(100.0*acc_val['rf_clf'])+'%')\n",
    "print('Diferença treinamento e validação : %5.2f' %(100.0*(acc_train['rf_clf']-acc_val['rf_clf']))+'%')"
   ]
  },
  {
   "cell_type": "markdown",
   "metadata": {},
   "source": [
    "- Acurácia balanceada em treinamento quase igual a validação. Não há overfitting. \n",
    "- Como a acurácia é baixa, podemos dizer que agora há underfitting.\n",
    "- Classe yes, que está em menor número, com erro maior ainda. Classe no com acerto quase total."
   ]
  },
  {
   "cell_type": "markdown",
   "metadata": {},
   "source": [
    "## Modelo Melhorado 3 - Random Forests com Balanceamento\n",
    "Ainda usaremos um número bem grande de árvores. Não precisa fazer regularização por enquanto porque não houve overfitting. Aliás, Random Forests é um algoritmo bem resistente à overfitting. Iremos agora usar o hiperparâmetro class_weight, que faz um balanceamento entre as classes usando pesos."
   ]
  },
  {
   "cell_type": "code",
   "execution_count": 46,
   "metadata": {},
   "outputs": [],
   "source": [
    "from sklearn.ensemble import RandomForestClassifier"
   ]
  },
  {
   "cell_type": "code",
   "execution_count": 47,
   "metadata": {},
   "outputs": [
    {
     "data": {
      "text/plain": [
       "RandomForestClassifier(bootstrap=True, class_weight='balanced',\n",
       "                       criterion='gini', max_depth=None, max_features='auto',\n",
       "                       max_leaf_nodes=None, min_impurity_decrease=0.0,\n",
       "                       min_impurity_split=None, min_samples_leaf=1,\n",
       "                       min_samples_split=2, min_weight_fraction_leaf=0.0,\n",
       "                       n_estimators=5000, n_jobs=None, oob_score=False,\n",
       "                       random_state=42, verbose=0, warm_start=False)"
      ]
     },
     "execution_count": 47,
     "metadata": {},
     "output_type": "execute_result"
    }
   ],
   "source": [
    "# \"balanced_subsample\" \n",
    "rf_clf2 = RandomForestClassifier(n_estimators=5000, class_weight = 'balanced', random_state=42)\n",
    "rf_clf2.fit(x_train,y_train)\n",
    "modelos['rf_clf2'] = rf_clf2\n",
    "rf_clf2"
   ]
  },
  {
   "cell_type": "markdown",
   "metadata": {},
   "source": [
    "### Avaliação em Treinamento"
   ]
  },
  {
   "cell_type": "code",
   "execution_count": 48,
   "metadata": {},
   "outputs": [
    {
     "name": "stdout",
     "output_type": "stream",
     "text": [
      "Matriz de confusão - real nas linhas, preditos nas colunas.\n"
     ]
    },
    {
     "data": {
      "text/html": [
       "<div>\n",
       "<style scoped>\n",
       "    .dataframe tbody tr th:only-of-type {\n",
       "        vertical-align: middle;\n",
       "    }\n",
       "\n",
       "    .dataframe tbody tr th {\n",
       "        vertical-align: top;\n",
       "    }\n",
       "\n",
       "    .dataframe thead th {\n",
       "        text-align: right;\n",
       "    }\n",
       "</style>\n",
       "<table border=\"1\" class=\"dataframe\">\n",
       "  <thead>\n",
       "    <tr style=\"text-align: right;\">\n",
       "      <th></th>\n",
       "      <th>yes</th>\n",
       "      <th>no</th>\n",
       "    </tr>\n",
       "  </thead>\n",
       "  <tbody>\n",
       "    <tr>\n",
       "      <th>yes</th>\n",
       "      <td>242</td>\n",
       "      <td>107</td>\n",
       "    </tr>\n",
       "    <tr>\n",
       "      <th>no</th>\n",
       "      <td>82</td>\n",
       "      <td>490</td>\n",
       "    </tr>\n",
       "  </tbody>\n",
       "</table>\n",
       "</div>"
      ],
      "text/plain": [
       "     yes   no\n",
       "yes  242  107\n",
       "no    82  490"
      ]
     },
     "execution_count": 48,
     "metadata": {},
     "output_type": "execute_result"
    }
   ],
   "source": [
    "y_pred = rf_clf2.predict(x_train)\n",
    "c = confusion_matrix(y_train, y_pred)\n",
    "print('Matriz de confusão - real nas linhas, preditos nas colunas.')\n",
    "pd.DataFrame(c,index=labels,columns=labels)"
   ]
  },
  {
   "cell_type": "code",
   "execution_count": 49,
   "metadata": {},
   "outputs": [
    {
     "name": "stdout",
     "output_type": "stream",
     "text": [
      "              precision    recall  f1-score   support\n",
      "\n",
      "         yes     0.7469    0.6934    0.7192       349\n",
      "          no     0.8208    0.8566    0.8383       572\n",
      "\n",
      "    accuracy                         0.7948       921\n",
      "   macro avg     0.7838    0.7750    0.7787       921\n",
      "weighted avg     0.7928    0.7948    0.7932       921\n",
      "\n",
      "balanced accuracy: 0.7750\n"
     ]
    },
    {
     "data": {
      "image/png": "[encoded data removed]",
      "text/plain": [
       "<Figure size 576x288 with 2 Axes>"
      ]
     },
     "metadata": {
      "needs_background": "light"
     },
     "output_type": "display_data"
    }
   ],
   "source": [
    "acc_train['rf_clf2']=heat_map_matriz(y_train, y_pred, labels)"
   ]
  },
  {
   "cell_type": "markdown",
   "metadata": {},
   "source": [
    "### Avaliação em Validação"
   ]
  },
  {
   "cell_type": "code",
   "execution_count": 50,
   "metadata": {},
   "outputs": [
    {
     "name": "stdout",
     "output_type": "stream",
     "text": [
      "Matriz de confusão - real nas linhas, preditos nas colunas.\n"
     ]
    },
    {
     "data": {
      "text/html": [
       "<div>\n",
       "<style scoped>\n",
       "    .dataframe tbody tr th:only-of-type {\n",
       "        vertical-align: middle;\n",
       "    }\n",
       "\n",
       "    .dataframe tbody tr th {\n",
       "        vertical-align: top;\n",
       "    }\n",
       "\n",
       "    .dataframe thead th {\n",
       "        text-align: right;\n",
       "    }\n",
       "</style>\n",
       "<table border=\"1\" class=\"dataframe\">\n",
       "  <thead>\n",
       "    <tr style=\"text-align: right;\">\n",
       "      <th></th>\n",
       "      <th>yes</th>\n",
       "      <th>no</th>\n",
       "    </tr>\n",
       "  </thead>\n",
       "  <tbody>\n",
       "    <tr>\n",
       "      <th>yes</th>\n",
       "      <td>58</td>\n",
       "      <td>32</td>\n",
       "    </tr>\n",
       "    <tr>\n",
       "      <th>no</th>\n",
       "      <td>25</td>\n",
       "      <td>122</td>\n",
       "    </tr>\n",
       "  </tbody>\n",
       "</table>\n",
       "</div>"
      ],
      "text/plain": [
       "     yes   no\n",
       "yes   58   32\n",
       "no    25  122"
      ]
     },
     "execution_count": 50,
     "metadata": {},
     "output_type": "execute_result"
    }
   ],
   "source": [
    "y_pred = rf_clf2.predict(x_val)\n",
    "c = confusion_matrix(y_val, y_pred)\n",
    "print('Matriz de confusão - real nas linhas, preditos nas colunas.')\n",
    "pd.DataFrame(c,index=labels,columns=labels)"
   ]
  },
  {
   "cell_type": "code",
   "execution_count": 51,
   "metadata": {},
   "outputs": [
    {
     "name": "stdout",
     "output_type": "stream",
     "text": [
      "              precision    recall  f1-score   support\n",
      "\n",
      "         yes     0.6988    0.6444    0.6705        90\n",
      "          no     0.7922    0.8299    0.8106       147\n",
      "\n",
      "    accuracy                         0.7595       237\n",
      "   macro avg     0.7455    0.7372    0.7406       237\n",
      "weighted avg     0.7567    0.7595    0.7574       237\n",
      "\n",
      "balanced accuracy: 0.7372\n"
     ]
    },
    {
     "data": {
      "image/png": "[encoded data removed]",
      "text/plain": [
       "<Figure size 576x288 with 2 Axes>"
      ]
     },
     "metadata": {
      "needs_background": "light"
     },
     "output_type": "display_data"
    }
   ],
   "source": [
    "acc_val['rf_clf2']=heat_map_matriz(y_val, y_pred, labels)"
   ]
  },
  {
   "cell_type": "markdown",
   "metadata": {},
   "source": [
    "### Análise"
   ]
  },
  {
   "cell_type": "code",
   "execution_count": 52,
   "metadata": {},
   "outputs": [
    {
     "name": "stdout",
     "output_type": "stream",
     "text": [
      "Acurácia balanceada em treinamento: 77.50%\n",
      "Acurácia balanceada em validação  : 73.72%\n",
      "Diferença treinamento e validação :  3.78%\n"
     ]
    }
   ],
   "source": [
    "print('Acurácia balanceada em treinamento: %5.2f' %(100.0*acc_train['rf_clf2'])+'%')\n",
    "print('Acurácia balanceada em validação  : %5.2f' %(100.0*acc_val['rf_clf2'])+'%')\n",
    "print('Diferença treinamento e validação : %5.2f' %(100.0*(acc_train['rf_clf2']-acc_val['rf_clf2']))+'%')"
   ]
  },
  {
   "cell_type": "markdown",
   "metadata": {},
   "source": [
    "- Acurácia balanceada em treinamento maior que em validação, mas o overfitting é improvável.\n",
    "- A acurácia subiu.\n",
    "- O balanceamento aumentou o número de acertos na classe yes, mas reduziu na classe no. Por isso não houve um reflexo tão grande na acurácia."
   ]
  },
  {
   "cell_type": "markdown",
   "metadata": {},
   "source": [
    "## Modelo Melhorado 4 - Random Forests com Dados balanceados artificialmente\n",
    "\n",
    "Ainda usaremos um número bem grande de árvores. Não precisa fazer regularização por enquanto porque não houve overfitting. Aliás, Random Forests é um algoritmo bem resistente à overfitting. Iremos agora usar o hiperparâmetro class_weight, que faz um balanceamento entre as classes usando pesos."
   ]
  },
  {
   "cell_type": "markdown",
   "metadata": {},
   "source": [
    "### Balanceamento Artificial dos Conjuntos de Dados\n",
    "\n",
    "Uma forma de se balancear conjuntos de dados é o *oversampling*, que significa aumentar o número de amostra criando novas amostras a partir de combinações de dados das amostras existentes.\n",
    "\n",
    "Um técnica bastante usada é o SMOTE, *Synthetic Minority Oversampling Technique* ou Técnica Sintétiac de Superamostragem da Minoria. O SMOTE cria novas amostras da classe minoritária por meio de interpolação dos dados das classes existentes. Veja mais na documentação do [SMOTE do Scikit-Learn Contrib](https://imbalanced-learn.readthedocs.io/en/stable/over_sampling.html#from-random-over-sampling-to-smote-and-adasyn).\n",
    "\n",
    "#### Observação: é para balancear apenas o conjunto de dados de treinamento. Nunca aplicar o balanceamento em validação e testes."
   ]
  },
  {
   "cell_type": "code",
   "execution_count": 53,
   "metadata": {},
   "outputs": [
    {
     "name": "stdout",
     "output_type": "stream",
     "text": [
      "[(0.0, 572), (1.0, 572)]\n"
     ]
    }
   ],
   "source": [
    "# descomentar a linha de baixo se precisar instalar\n",
    "#!pip install -U imbalanced-learn\n",
    "from imblearn.over_sampling import SMOTE\n",
    "from collections import Counter\n",
    "\n",
    "smotenc = SMOTE(random_state=42)\n",
    "x_smoted, y_smoted = smotenc.fit_resample(x_train, y_train)\n",
    "print(sorted(Counter(y_smoted).items()))"
   ]
  },
  {
   "cell_type": "code",
   "execution_count": 65,
   "metadata": {},
   "outputs": [
    {
     "data": {
      "text/plain": [
       "RandomForestClassifier(bootstrap=True, class_weight=None, criterion='gini',\n",
       "                       max_depth=None, max_features='auto', max_leaf_nodes=None,\n",
       "                       min_impurity_decrease=0.0, min_impurity_split=None,\n",
       "                       min_samples_leaf=1, min_samples_split=2,\n",
       "                       min_weight_fraction_leaf=0.0, n_estimators=5000,\n",
       "                       n_jobs=None, oob_score=False, random_state=42, verbose=0,\n",
       "                       warm_start=False)"
      ]
     },
     "execution_count": 65,
     "metadata": {},
     "output_type": "execute_result"
    }
   ],
   "source": [
    "rf_clf3 = RandomForestClassifier(n_estimators=5000, random_state=42)\n",
    "rf_clf3.fit(x_smoted,y_smoted)\n",
    "modelos['rf_clf3'] = rf_clf3\n",
    "rf_clf3"
   ]
  },
  {
   "cell_type": "markdown",
   "metadata": {},
   "source": [
    "### Avaliação em Treinamento"
   ]
  },
  {
   "cell_type": "code",
   "execution_count": 55,
   "metadata": {},
   "outputs": [
    {
     "name": "stdout",
     "output_type": "stream",
     "text": [
      "Matriz de confusão - real nas linhas, preditos nas colunas.\n"
     ]
    },
    {
     "data": {
      "text/html": [
       "<div>\n",
       "<style scoped>\n",
       "    .dataframe tbody tr th:only-of-type {\n",
       "        vertical-align: middle;\n",
       "    }\n",
       "\n",
       "    .dataframe tbody tr th {\n",
       "        vertical-align: top;\n",
       "    }\n",
       "\n",
       "    .dataframe thead th {\n",
       "        text-align: right;\n",
       "    }\n",
       "</style>\n",
       "<table border=\"1\" class=\"dataframe\">\n",
       "  <thead>\n",
       "    <tr style=\"text-align: right;\">\n",
       "      <th></th>\n",
       "      <th>yes</th>\n",
       "      <th>no</th>\n",
       "    </tr>\n",
       "  </thead>\n",
       "  <tbody>\n",
       "    <tr>\n",
       "      <th>yes</th>\n",
       "      <td>399</td>\n",
       "      <td>173</td>\n",
       "    </tr>\n",
       "    <tr>\n",
       "      <th>no</th>\n",
       "      <td>82</td>\n",
       "      <td>490</td>\n",
       "    </tr>\n",
       "  </tbody>\n",
       "</table>\n",
       "</div>"
      ],
      "text/plain": [
       "     yes   no\n",
       "yes  399  173\n",
       "no    82  490"
      ]
     },
     "execution_count": 55,
     "metadata": {},
     "output_type": "execute_result"
    }
   ],
   "source": [
    "y_pred = rf_clf3.predict(x_smoted)\n",
    "c = confusion_matrix(y_smoted, y_pred)\n",
    "print('Matriz de confusão - real nas linhas, preditos nas colunas.')\n",
    "pd.DataFrame(c,index=labels,columns=labels)"
   ]
  },
  {
   "cell_type": "code",
   "execution_count": 56,
   "metadata": {},
   "outputs": [
    {
     "name": "stdout",
     "output_type": "stream",
     "text": [
      "              precision    recall  f1-score   support\n",
      "\n",
      "         yes     0.8295    0.6976    0.7578       572\n",
      "          no     0.7391    0.8566    0.7935       572\n",
      "\n",
      "    accuracy                         0.7771      1144\n",
      "   macro avg     0.7843    0.7771    0.7757      1144\n",
      "weighted avg     0.7843    0.7771    0.7757      1144\n",
      "\n",
      "balanced accuracy: 0.7771\n"
     ]
    },
    {
     "data": {
      "image/png": "[encoded data removed]",
      "text/plain": [
       "<Figure size 576x288 with 2 Axes>"
      ]
     },
     "metadata": {
      "needs_background": "light"
     },
     "output_type": "display_data"
    }
   ],
   "source": [
    "acc_train['rf_clf3']=heat_map_matriz(y_smoted, y_pred, labels)"
   ]
  },
  {
   "cell_type": "markdown",
   "metadata": {},
   "source": [
    "### Avaliação em Validação"
   ]
  },
  {
   "cell_type": "code",
   "execution_count": 57,
   "metadata": {},
   "outputs": [
    {
     "name": "stdout",
     "output_type": "stream",
     "text": [
      "Matriz de confusão - real nas linhas, preditos nas colunas.\n"
     ]
    },
    {
     "data": {
      "text/html": [
       "<div>\n",
       "<style scoped>\n",
       "    .dataframe tbody tr th:only-of-type {\n",
       "        vertical-align: middle;\n",
       "    }\n",
       "\n",
       "    .dataframe tbody tr th {\n",
       "        vertical-align: top;\n",
       "    }\n",
       "\n",
       "    .dataframe thead th {\n",
       "        text-align: right;\n",
       "    }\n",
       "</style>\n",
       "<table border=\"1\" class=\"dataframe\">\n",
       "  <thead>\n",
       "    <tr style=\"text-align: right;\">\n",
       "      <th></th>\n",
       "      <th>yes</th>\n",
       "      <th>no</th>\n",
       "    </tr>\n",
       "  </thead>\n",
       "  <tbody>\n",
       "    <tr>\n",
       "      <th>yes</th>\n",
       "      <td>58</td>\n",
       "      <td>32</td>\n",
       "    </tr>\n",
       "    <tr>\n",
       "      <th>no</th>\n",
       "      <td>25</td>\n",
       "      <td>122</td>\n",
       "    </tr>\n",
       "  </tbody>\n",
       "</table>\n",
       "</div>"
      ],
      "text/plain": [
       "     yes   no\n",
       "yes   58   32\n",
       "no    25  122"
      ]
     },
     "execution_count": 57,
     "metadata": {},
     "output_type": "execute_result"
    }
   ],
   "source": [
    "y_pred = rf_clf3.predict(x_val)\n",
    "c = confusion_matrix(y_val, y_pred)\n",
    "print('Matriz de confusão - real nas linhas, preditos nas colunas.')\n",
    "pd.DataFrame(c,index=labels,columns=labels)"
   ]
  },
  {
   "cell_type": "code",
   "execution_count": 58,
   "metadata": {},
   "outputs": [
    {
     "name": "stdout",
     "output_type": "stream",
     "text": [
      "              precision    recall  f1-score   support\n",
      "\n",
      "         yes     0.6988    0.6444    0.6705        90\n",
      "          no     0.7922    0.8299    0.8106       147\n",
      "\n",
      "    accuracy                         0.7595       237\n",
      "   macro avg     0.7455    0.7372    0.7406       237\n",
      "weighted avg     0.7567    0.7595    0.7574       237\n",
      "\n",
      "balanced accuracy: 0.7372\n"
     ]
    },
    {
     "data": {
      "image/png": "[encoded data removed]",
      "text/plain": [
       "<Figure size 576x288 with 2 Axes>"
      ]
     },
     "metadata": {
      "needs_background": "light"
     },
     "output_type": "display_data"
    }
   ],
   "source": [
    "acc_val['rf_clf3']=heat_map_matriz(y_val, y_pred, labels)"
   ]
  },
  {
   "cell_type": "markdown",
   "metadata": {},
   "source": [
    "### Análise"
   ]
  },
  {
   "cell_type": "code",
   "execution_count": 59,
   "metadata": {},
   "outputs": [
    {
     "name": "stdout",
     "output_type": "stream",
     "text": [
      "Acurácia balanceada em treinamento: 77.71%\n",
      "Acurácia balanceada em validação  : 73.72%\n",
      "Diferença treinamento e validação :  3.99%\n"
     ]
    }
   ],
   "source": [
    "print('Acurácia balanceada em treinamento: %5.2f' %(100.0*acc_train['rf_clf3'])+'%')\n",
    "print('Acurácia balanceada em validação  : %5.2f' %(100.0*acc_val['rf_clf3'])+'%')\n",
    "print('Diferença treinamento e validação : %5.2f' %(100.0*(acc_train['rf_clf3']-acc_val['rf_clf3']))+'%')"
   ]
  },
  {
   "cell_type": "markdown",
   "metadata": {},
   "source": [
    "- Acurácia balanceada em treinamento maior que em validação, mas o overfitting é improvável.\n",
    "- Os resultados foram os mesmos do balanceamento via peso das classes."
   ]
  },
  {
   "cell_type": "markdown",
   "metadata": {},
   "source": [
    "## Teste do melhor modelo"
   ]
  },
  {
   "cell_type": "code",
   "execution_count": 60,
   "metadata": {},
   "outputs": [
    {
     "data": {
      "text/html": [
       "<div>\n",
       "<style scoped>\n",
       "    .dataframe tbody tr th:only-of-type {\n",
       "        vertical-align: middle;\n",
       "    }\n",
       "\n",
       "    .dataframe tbody tr th {\n",
       "        vertical-align: top;\n",
       "    }\n",
       "\n",
       "    .dataframe thead th {\n",
       "        text-align: right;\n",
       "    }\n",
       "</style>\n",
       "<table border=\"1\" class=\"dataframe\">\n",
       "  <thead>\n",
       "    <tr style=\"text-align: right;\">\n",
       "      <th></th>\n",
       "      <th>modelos</th>\n",
       "      <th>acc_train</th>\n",
       "      <th>acc_val</th>\n",
       "    </tr>\n",
       "  </thead>\n",
       "  <tbody>\n",
       "    <tr>\n",
       "      <th>0</th>\n",
       "      <td>Árvore de Decisão</td>\n",
       "      <td>0.77</td>\n",
       "      <td>0.74</td>\n",
       "    </tr>\n",
       "    <tr>\n",
       "      <th>1</th>\n",
       "      <td>AD Regularizada</td>\n",
       "      <td>0.72</td>\n",
       "      <td>0.72</td>\n",
       "    </tr>\n",
       "    <tr>\n",
       "      <th>2</th>\n",
       "      <td>Floresta Aleatória</td>\n",
       "      <td>0.74</td>\n",
       "      <td>0.75</td>\n",
       "    </tr>\n",
       "    <tr>\n",
       "      <th>3</th>\n",
       "      <td>Floresta Balanceada</td>\n",
       "      <td>0.78</td>\n",
       "      <td>0.74</td>\n",
       "    </tr>\n",
       "    <tr>\n",
       "      <th>4</th>\n",
       "      <td>Floresta SMOTE</td>\n",
       "      <td>0.78</td>\n",
       "      <td>0.74</td>\n",
       "    </tr>\n",
       "  </tbody>\n",
       "</table>\n",
       "</div>"
      ],
      "text/plain": [
       "               modelos  acc_train  acc_val\n",
       "0    Árvore de Decisão       0.77     0.74\n",
       "1      AD Regularizada       0.72     0.72\n",
       "2   Floresta Aleatória       0.74     0.75\n",
       "3  Floresta Balanceada       0.78     0.74\n",
       "4       Floresta SMOTE       0.78     0.74"
      ]
     },
     "execution_count": 60,
     "metadata": {},
     "output_type": "execute_result"
    }
   ],
   "source": [
    "res_df = pd.DataFrame(data=lista_modelos, columns=['modelos'])\n",
    "res_df['acc_train'] = acc_train.values()\n",
    "res_df['acc_val'] = acc_val.values()\n",
    "res_df['acc_train']=res_df['acc_train'].apply(lambda x:round(x,2))\n",
    "res_df['acc_val']=res_df['acc_val'].apply(lambda x:round(x,2))\n",
    "res_df"
   ]
  },
  {
   "cell_type": "code",
   "execution_count": 61,
   "metadata": {},
   "outputs": [
    {
     "data": {
      "image/png": "[encoded data removed]",
      "text/plain": [
       "<Figure size 1080x576 with 1 Axes>"
      ]
     },
     "metadata": {
      "needs_background": "light"
     },
     "output_type": "display_data"
    }
   ],
   "source": [
    "grouped_box(g1=res_df.acc_train, g2=res_df.acc_val, label1='Treino', label2='Validação', \\\n",
    "            grouped_labels = res_df.modelos, ylabel='Acurácia Balanceada', \\\n",
    "            title='Resultados em Treinamento e Validação')"
   ]
  },
  {
   "cell_type": "markdown",
   "metadata": {},
   "source": [
    "### Escolhendo o que teve melhor acurácia balanceada em validação."
   ]
  },
  {
   "cell_type": "code",
   "execution_count": 62,
   "metadata": {},
   "outputs": [],
   "source": [
    "best_model = max(list(map(lambda k: (k[1],k[0]), acc_val.items())))[1]\n",
    "bm = modelos[best_model]"
   ]
  },
  {
   "cell_type": "code",
   "execution_count": 63,
   "metadata": {},
   "outputs": [
    {
     "name": "stdout",
     "output_type": "stream",
     "text": [
      "Matriz de confusão - real nas linhas, preditos nas colunas.\n"
     ]
    },
    {
     "data": {
      "text/html": [
       "<div>\n",
       "<style scoped>\n",
       "    .dataframe tbody tr th:only-of-type {\n",
       "        vertical-align: middle;\n",
       "    }\n",
       "\n",
       "    .dataframe tbody tr th {\n",
       "        vertical-align: top;\n",
       "    }\n",
       "\n",
       "    .dataframe thead th {\n",
       "        text-align: right;\n",
       "    }\n",
       "</style>\n",
       "<table border=\"1\" class=\"dataframe\">\n",
       "  <thead>\n",
       "    <tr style=\"text-align: right;\">\n",
       "      <th></th>\n",
       "      <th>yes</th>\n",
       "      <th>no</th>\n",
       "    </tr>\n",
       "  </thead>\n",
       "  <tbody>\n",
       "    <tr>\n",
       "      <th>yes</th>\n",
       "      <td>29</td>\n",
       "      <td>31</td>\n",
       "    </tr>\n",
       "    <tr>\n",
       "      <th>no</th>\n",
       "      <td>2</td>\n",
       "      <td>96</td>\n",
       "    </tr>\n",
       "  </tbody>\n",
       "</table>\n",
       "</div>"
      ],
      "text/plain": [
       "     yes  no\n",
       "yes   29  31\n",
       "no     2  96"
      ]
     },
     "execution_count": 63,
     "metadata": {},
     "output_type": "execute_result"
    }
   ],
   "source": [
    "y_pred = bm.predict(x_test)\n",
    "c = confusion_matrix(y_test, y_pred)\n",
    "print('Matriz de confusão - real nas linhas, preditos nas colunas.')\n",
    "pd.DataFrame(c,index=labels,columns=labels)"
   ]
  },
  {
   "cell_type": "code",
   "execution_count": 64,
   "metadata": {},
   "outputs": [
    {
     "name": "stdout",
     "output_type": "stream",
     "text": [
      "              precision    recall  f1-score   support\n",
      "\n",
      "         yes     0.9355    0.4833    0.6374        60\n",
      "          no     0.7559    0.9796    0.8533        98\n",
      "\n",
      "    accuracy                         0.7911       158\n",
      "   macro avg     0.8457    0.7315    0.7453       158\n",
      "weighted avg     0.8241    0.7911    0.7713       158\n",
      "\n",
      "balanced accuracy: 0.7315\n"
     ]
    },
    {
     "data": {
      "image/png": "[encoded data removed]",
      "text/plain": [
       "<Figure size 576x288 with 2 Axes>"
      ]
     },
     "metadata": {
      "needs_background": "light"
     },
     "output_type": "display_data"
    }
   ],
   "source": [
    "acc_test =heat_map_matriz(y_test, y_pred, labels)"
   ]
  },
  {
   "cell_type": "markdown",
   "metadata": {},
   "source": [
    "### Conclusão\n",
    "\n",
    "O conjunto de dados do Titanic é difícil de trabalhar pois possui somente dados categóricos e poucas colunas para tornar o resultado mais preciso. Dado o desbalanceamento, todos os modelos ficaram enviesados para a classe `no`, que significa não sobreviveu. O balanceamento *forçado* dos dados não trouxe resultados satisfatórios."
   ]
  },
  {
   "cell_type": "code",
   "execution_count": null,
   "metadata": {},
   "outputs": [],
   "source": []
  }
 ],
 "metadata": {
  "kernelspec": {
   "display_name": "Python 3",
   "language": "python",
   "name": "python3"
  },
  "language_info": {
   "codemirror_mode": {
    "name": "ipython",
    "version": 3
   },
   "file_extension": ".py",
   "mimetype": "text/x-python",
   "name": "python",
   "nbconvert_exporter": "python",
   "pygments_lexer": "ipython3",
   "version": "3.6.4"
  }
 },
 "nbformat": 4,
 "nbformat_minor": 1
}
